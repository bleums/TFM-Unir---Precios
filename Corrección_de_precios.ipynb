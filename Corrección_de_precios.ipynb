{
  "nbformat": 4,
  "nbformat_minor": 0,
  "metadata": {
    "colab": {
      "provenance": [],
      "include_colab_link": true
    },
    "kernelspec": {
      "name": "python3",
      "display_name": "Python 3"
    },
    "language_info": {
      "name": "python"
    }
  },
  "cells": [
    {
      "cell_type": "markdown",
      "metadata": {
        "id": "view-in-github",
        "colab_type": "text"
      },
      "source": [
        "<a href=\"https://colab.research.google.com/github/bleums/TFM-Unir---Precios/blob/main/Correcci%C3%B3n_de_precios.ipynb\" target=\"_parent\"><img src=\"https://colab.research.google.com/assets/colab-badge.svg\" alt=\"Open In Colab\"/></a>"
      ]
    },
    {
      "cell_type": "code",
      "execution_count": 1,
      "metadata": {
        "id": "Vu2L4wA_s1FB",
        "outputId": "f8dbb90e-cef1-47c2-f05c-0ed235a6e11f",
        "colab": {
          "base_uri": "https://localhost:8080/",
          "height": 322
        }
      },
      "outputs": [
        {
          "output_type": "display_data",
          "data": {
            "text/plain": [
              "<IPython.core.display.HTML object>"
            ],
            "text/html": [
              "\n",
              "     <input type=\"file\" id=\"files-f8b18167-f6c2-4064-8c78-4605f96f76de\" name=\"files[]\" multiple disabled\n",
              "        style=\"border:none\" />\n",
              "     <output id=\"result-f8b18167-f6c2-4064-8c78-4605f96f76de\">\n",
              "      Upload widget is only available when the cell has been executed in the\n",
              "      current browser session. Please rerun this cell to enable.\n",
              "      </output>\n",
              "      <script>// Copyright 2017 Google LLC\n",
              "//\n",
              "// Licensed under the Apache License, Version 2.0 (the \"License\");\n",
              "// you may not use this file except in compliance with the License.\n",
              "// You may obtain a copy of the License at\n",
              "//\n",
              "//      http://www.apache.org/licenses/LICENSE-2.0\n",
              "//\n",
              "// Unless required by applicable law or agreed to in writing, software\n",
              "// distributed under the License is distributed on an \"AS IS\" BASIS,\n",
              "// WITHOUT WARRANTIES OR CONDITIONS OF ANY KIND, either express or implied.\n",
              "// See the License for the specific language governing permissions and\n",
              "// limitations under the License.\n",
              "\n",
              "/**\n",
              " * @fileoverview Helpers for google.colab Python module.\n",
              " */\n",
              "(function(scope) {\n",
              "function span(text, styleAttributes = {}) {\n",
              "  const element = document.createElement('span');\n",
              "  element.textContent = text;\n",
              "  for (const key of Object.keys(styleAttributes)) {\n",
              "    element.style[key] = styleAttributes[key];\n",
              "  }\n",
              "  return element;\n",
              "}\n",
              "\n",
              "// Max number of bytes which will be uploaded at a time.\n",
              "const MAX_PAYLOAD_SIZE = 100 * 1024;\n",
              "\n",
              "function _uploadFiles(inputId, outputId) {\n",
              "  const steps = uploadFilesStep(inputId, outputId);\n",
              "  const outputElement = document.getElementById(outputId);\n",
              "  // Cache steps on the outputElement to make it available for the next call\n",
              "  // to uploadFilesContinue from Python.\n",
              "  outputElement.steps = steps;\n",
              "\n",
              "  return _uploadFilesContinue(outputId);\n",
              "}\n",
              "\n",
              "// This is roughly an async generator (not supported in the browser yet),\n",
              "// where there are multiple asynchronous steps and the Python side is going\n",
              "// to poll for completion of each step.\n",
              "// This uses a Promise to block the python side on completion of each step,\n",
              "// then passes the result of the previous step as the input to the next step.\n",
              "function _uploadFilesContinue(outputId) {\n",
              "  const outputElement = document.getElementById(outputId);\n",
              "  const steps = outputElement.steps;\n",
              "\n",
              "  const next = steps.next(outputElement.lastPromiseValue);\n",
              "  return Promise.resolve(next.value.promise).then((value) => {\n",
              "    // Cache the last promise value to make it available to the next\n",
              "    // step of the generator.\n",
              "    outputElement.lastPromiseValue = value;\n",
              "    return next.value.response;\n",
              "  });\n",
              "}\n",
              "\n",
              "/**\n",
              " * Generator function which is called between each async step of the upload\n",
              " * process.\n",
              " * @param {string} inputId Element ID of the input file picker element.\n",
              " * @param {string} outputId Element ID of the output display.\n",
              " * @return {!Iterable<!Object>} Iterable of next steps.\n",
              " */\n",
              "function* uploadFilesStep(inputId, outputId) {\n",
              "  const inputElement = document.getElementById(inputId);\n",
              "  inputElement.disabled = false;\n",
              "\n",
              "  const outputElement = document.getElementById(outputId);\n",
              "  outputElement.innerHTML = '';\n",
              "\n",
              "  const pickedPromise = new Promise((resolve) => {\n",
              "    inputElement.addEventListener('change', (e) => {\n",
              "      resolve(e.target.files);\n",
              "    });\n",
              "  });\n",
              "\n",
              "  const cancel = document.createElement('button');\n",
              "  inputElement.parentElement.appendChild(cancel);\n",
              "  cancel.textContent = 'Cancel upload';\n",
              "  const cancelPromise = new Promise((resolve) => {\n",
              "    cancel.onclick = () => {\n",
              "      resolve(null);\n",
              "    };\n",
              "  });\n",
              "\n",
              "  // Wait for the user to pick the files.\n",
              "  const files = yield {\n",
              "    promise: Promise.race([pickedPromise, cancelPromise]),\n",
              "    response: {\n",
              "      action: 'starting',\n",
              "    }\n",
              "  };\n",
              "\n",
              "  cancel.remove();\n",
              "\n",
              "  // Disable the input element since further picks are not allowed.\n",
              "  inputElement.disabled = true;\n",
              "\n",
              "  if (!files) {\n",
              "    return {\n",
              "      response: {\n",
              "        action: 'complete',\n",
              "      }\n",
              "    };\n",
              "  }\n",
              "\n",
              "  for (const file of files) {\n",
              "    const li = document.createElement('li');\n",
              "    li.append(span(file.name, {fontWeight: 'bold'}));\n",
              "    li.append(span(\n",
              "        `(${file.type || 'n/a'}) - ${file.size} bytes, ` +\n",
              "        `last modified: ${\n",
              "            file.lastModifiedDate ? file.lastModifiedDate.toLocaleDateString() :\n",
              "                                    'n/a'} - `));\n",
              "    const percent = span('0% done');\n",
              "    li.appendChild(percent);\n",
              "\n",
              "    outputElement.appendChild(li);\n",
              "\n",
              "    const fileDataPromise = new Promise((resolve) => {\n",
              "      const reader = new FileReader();\n",
              "      reader.onload = (e) => {\n",
              "        resolve(e.target.result);\n",
              "      };\n",
              "      reader.readAsArrayBuffer(file);\n",
              "    });\n",
              "    // Wait for the data to be ready.\n",
              "    let fileData = yield {\n",
              "      promise: fileDataPromise,\n",
              "      response: {\n",
              "        action: 'continue',\n",
              "      }\n",
              "    };\n",
              "\n",
              "    // Use a chunked sending to avoid message size limits. See b/62115660.\n",
              "    let position = 0;\n",
              "    do {\n",
              "      const length = Math.min(fileData.byteLength - position, MAX_PAYLOAD_SIZE);\n",
              "      const chunk = new Uint8Array(fileData, position, length);\n",
              "      position += length;\n",
              "\n",
              "      const base64 = btoa(String.fromCharCode.apply(null, chunk));\n",
              "      yield {\n",
              "        response: {\n",
              "          action: 'append',\n",
              "          file: file.name,\n",
              "          data: base64,\n",
              "        },\n",
              "      };\n",
              "\n",
              "      let percentDone = fileData.byteLength === 0 ?\n",
              "          100 :\n",
              "          Math.round((position / fileData.byteLength) * 100);\n",
              "      percent.textContent = `${percentDone}% done`;\n",
              "\n",
              "    } while (position < fileData.byteLength);\n",
              "  }\n",
              "\n",
              "  // All done.\n",
              "  yield {\n",
              "    response: {\n",
              "      action: 'complete',\n",
              "    }\n",
              "  };\n",
              "}\n",
              "\n",
              "scope.google = scope.google || {};\n",
              "scope.google.colab = scope.google.colab || {};\n",
              "scope.google.colab._files = {\n",
              "  _uploadFiles,\n",
              "  _uploadFilesContinue,\n",
              "};\n",
              "})(self);\n",
              "</script> "
            ]
          },
          "metadata": {}
        },
        {
          "output_type": "stream",
          "name": "stdout",
          "text": [
            "Saving Consolidado Referencias 2023 actualizado.xlsx to Consolidado Referencias 2023 actualizado.xlsx\n",
            "Saving Consolidado Referencias 2025.xlsx to Consolidado Referencias 2025.xlsx\n",
            "Saving datos 2023 preprocesados.xlsx to datos 2023 preprocesados.xlsx\n",
            "Saving datos 2024 preprocesados.xlsx to datos 2024 preprocesados.xlsx\n",
            "Saving datos 2025 preprocesados.xlsx to datos 2025 preprocesados.xlsx\n",
            "Saving datos_2023.xlsx to datos_2023.xlsx\n",
            "Saving datos_2024.xlsx to datos_2024.xlsx\n",
            "Saving datos_2025.xlsx to datos_2025.xlsx\n"
          ]
        }
      ],
      "source": [
        "from google.colab import files\n",
        "uploaded = files.upload()"
      ]
    },
    {
      "cell_type": "code",
      "source": [
        "import pandas as pd\n",
        "import numpy as np\n",
        "import matplotlib.pyplot as plt\n",
        "import seaborn as sns\n",
        "import csv\n",
        "from openpyxl import load_workbook"
      ],
      "metadata": {
        "id": "6VjrghhXbjaG"
      },
      "execution_count": 2,
      "outputs": []
    },
    {
      "cell_type": "code",
      "source": [
        "# Nombres de los archivos\n",
        "path_csv1 = 'datos 2023 preprocesados.xlsx'\n",
        "path_csv2 = 'datos 2024 preprocesados.xlsx'\n",
        "path_csv3 = 'datos 2025 preprocesados.xlsx'\n",
        "path_csv4 = 'datos_2023.xlsx'\n",
        "path_csv5 = 'datos_2024.xlsx'\n",
        "path_csv6 = 'datos_2025.xlsx'\n",
        "path_csv_precios_2023 = 'Consolidado Referencias 2023 actualizado.xlsx'\n",
        "path_csv_precios_2025 = 'Consolidado Referencias 2025.xlsx'"
      ],
      "metadata": {
        "id": "TgOW8k4Qbm3f"
      },
      "execution_count": 27,
      "outputs": []
    },
    {
      "cell_type": "code",
      "source": [
        "bad_lines = []\n",
        "\n",
        "def collect_bad_line(bad_line: list[str]) -> None:\n",
        "    bad_lines.append(bad_line)"
      ],
      "metadata": {
        "id": "O8JScmFKcSAk"
      },
      "execution_count": 28,
      "outputs": []
    },
    {
      "cell_type": "code",
      "source": [
        "# Carga el workbook en modo lectura\n",
        "wb = load_workbook(path_csv1, read_only=True)\n",
        "ws = wb.active  # o wb['NombreDeLaHoja']\n",
        "print(\"Filas en la hoja Excel:\", ws.max_row)"
      ],
      "metadata": {
        "colab": {
          "base_uri": "https://localhost:8080/"
        },
        "id": "VuwpFxMMcYNa",
        "outputId": "9c41d01f-7b63-4015-8c1d-943ba929d2fd"
      },
      "execution_count": 29,
      "outputs": [
        {
          "output_type": "stream",
          "name": "stdout",
          "text": [
            "Filas en la hoja Excel: 2681\n"
          ]
        }
      ]
    },
    {
      "cell_type": "code",
      "source": [
        "# Itera todas las filas, valores tal cual (incluye filas vacías)\n",
        "rows = list(ws.iter_rows(values_only=True))\n",
        "\n",
        "# Asume que la primera fila es la cabecera\n",
        "header = rows[0]\n",
        "data   = rows[1:]\n",
        "\n",
        "# Crea el DataFrame completo\n",
        "df_raw = pd.DataFrame(data, columns=header)\n",
        "\n",
        "# Ya puedes inspeccionar cuántas filas trajo Excel realmente\n",
        "print(\"Filas (raw):\", len(rows), \"→ DataFrame:\", df_raw.shape[0])\n",
        "\n",
        "# Ahora procesa df_raw como tu df_analisis:\n",
        "#    — limpia filas completamente vacías si quieres\n",
        "#    — ajusta tipos, renombra columnas, etc.\n",
        "df_2023_preprocessed = df_raw.dropna(how='all').reset_index(drop=True)"
      ],
      "metadata": {
        "colab": {
          "base_uri": "https://localhost:8080/"
        },
        "id": "BIPI6x4IccRF",
        "outputId": "e025202e-eb63-430c-c72d-4ae18d6ba767"
      },
      "execution_count": 30,
      "outputs": [
        {
          "output_type": "stream",
          "name": "stdout",
          "text": [
            "Filas (raw): 2681 → DataFrame: 2680\n"
          ]
        }
      ]
    },
    {
      "cell_type": "markdown",
      "source": [
        "Se hace lo mismo con el resto de archivos"
      ],
      "metadata": {
        "id": "fquQYt1qcfA9"
      }
    },
    {
      "cell_type": "code",
      "source": [
        "# Carga el workbook 2 en modo lectura\n",
        "wb = load_workbook(path_csv2, read_only=True)\n",
        "ws = wb.active  # o wb['NombreDeLaHoja']\n",
        "print(\"Filas en la hoja Excel:\", ws.max_row)"
      ],
      "metadata": {
        "colab": {
          "base_uri": "https://localhost:8080/"
        },
        "id": "KFk4InczchXx",
        "outputId": "41712293-441f-4db3-bcf6-3a615370df4c"
      },
      "execution_count": 31,
      "outputs": [
        {
          "output_type": "stream",
          "name": "stdout",
          "text": [
            "Filas en la hoja Excel: 5287\n"
          ]
        }
      ]
    },
    {
      "cell_type": "code",
      "source": [
        "# Itera todas las filas, valores tal cual (incluye filas vacías)\n",
        "rows = list(ws.iter_rows(values_only=True))\n",
        "\n",
        "# Asume que la primera fila es la cabecera\n",
        "header = rows[0]\n",
        "data   = rows[1:]\n",
        "\n",
        "# Crea el DataFrame completo\n",
        "df_raw = pd.DataFrame(data, columns=header)\n",
        "\n",
        "# Ya puedes inspeccionar cuántas filas trajo Excel realmente\n",
        "print(\"Filas (raw):\", len(rows), \"→ DataFrame:\", df_raw.shape[0])\n",
        "\n",
        "# Ahora procesa df_raw como tu df_analisis:\n",
        "#    — limpia filas completamente vacías si quieres\n",
        "#    — ajusta tipos, renombra columnas, etc.\n",
        "df_2024_preprocessed = df_raw.dropna(how='all').reset_index(drop=True)"
      ],
      "metadata": {
        "colab": {
          "base_uri": "https://localhost:8080/"
        },
        "id": "tmw6aKa2cklk",
        "outputId": "522ef1ea-b617-4468-c323-66cb99e018c8"
      },
      "execution_count": 32,
      "outputs": [
        {
          "output_type": "stream",
          "name": "stdout",
          "text": [
            "Filas (raw): 5287 → DataFrame: 5286\n"
          ]
        }
      ]
    },
    {
      "cell_type": "code",
      "source": [
        "# Carga el workbook 3 en modo lectura\n",
        "wb = load_workbook(path_csv3, read_only=True)\n",
        "ws = wb.active  # o wb['NombreDeLaHoja']\n",
        "print(\"Filas en la hoja Excel:\", ws.max_row)"
      ],
      "metadata": {
        "colab": {
          "base_uri": "https://localhost:8080/"
        },
        "id": "uEa4ywwPcoX-",
        "outputId": "2579cb8f-cb76-4715-bf9b-4dbc1ae5925f"
      },
      "execution_count": 33,
      "outputs": [
        {
          "output_type": "stream",
          "name": "stdout",
          "text": [
            "Filas en la hoja Excel: 751\n"
          ]
        }
      ]
    },
    {
      "cell_type": "code",
      "source": [
        "# Itera todas las filas, valores tal cual (incluye filas vacías)\n",
        "rows = list(ws.iter_rows(values_only=True))\n",
        "\n",
        "# Asume que la primera fila es la cabecera\n",
        "header = rows[0]\n",
        "data   = rows[1:]\n",
        "\n",
        "# Crea el DataFrame completo\n",
        "df_raw = pd.DataFrame(data, columns=header)\n",
        "\n",
        "# Ya puedes inspeccionar cuántas filas trajo Excel realmente\n",
        "print(\"Filas (raw):\", len(rows), \"→ DataFrame:\", df_raw.shape[0])\n",
        "\n",
        "# Ahora procesa df_raw como tu df_analisis:\n",
        "#    — limpia filas completamente vacías si quieres\n",
        "#    — ajusta tipos, renombra columnas, etc.\n",
        "df_2025_preprocessed = df_raw.dropna(how='all').reset_index(drop=True)"
      ],
      "metadata": {
        "colab": {
          "base_uri": "https://localhost:8080/"
        },
        "id": "1x7d_2fscrDp",
        "outputId": "9d8d4fb2-919b-4441-efde-e39b52f40495"
      },
      "execution_count": 34,
      "outputs": [
        {
          "output_type": "stream",
          "name": "stdout",
          "text": [
            "Filas (raw): 751 → DataFrame: 750\n"
          ]
        }
      ]
    },
    {
      "cell_type": "code",
      "source": [
        "# Carga el workbook 3 en modo lectura\n",
        "wb = load_workbook(path_csv4, read_only=True)\n",
        "ws = wb.active  # o wb['NombreDeLaHoja']\n",
        "print(\"Filas en la hoja Excel:\", ws.max_row)\n",
        "\n",
        "# Itera todas las filas, valores tal cual (incluye filas vacías)\n",
        "rows = list(ws.iter_rows(values_only=True))\n",
        "\n",
        "# Asume que la primera fila es la cabecera\n",
        "header = rows[0]\n",
        "data   = rows[1:]\n",
        "\n",
        "# Crea el DataFrame completo\n",
        "df_raw = pd.DataFrame(data, columns=header)\n",
        "\n",
        "# Ya puedes inspeccionar cuántas filas trajo Excel realmente\n",
        "print(\"Filas (raw):\", len(rows), \"→ DataFrame:\", df_raw.shape[0])\n",
        "\n",
        "# Ahora procesa df_raw como tu df_analisis:\n",
        "#    — limpia filas completamente vacías si quieres\n",
        "#    — ajusta tipos, renombra columnas, etc.\n",
        "df_2023_clean = df_raw.dropna(how='all').reset_index(drop=True)"
      ],
      "metadata": {
        "colab": {
          "base_uri": "https://localhost:8080/"
        },
        "id": "BDiyUquOzJdN",
        "outputId": "c77ed0e2-4195-4a77-b391-0e268173ecd9"
      },
      "execution_count": 35,
      "outputs": [
        {
          "output_type": "stream",
          "name": "stdout",
          "text": [
            "Filas en la hoja Excel: 9844\n",
            "Filas (raw): 9844 → DataFrame: 9843\n"
          ]
        }
      ]
    },
    {
      "cell_type": "code",
      "source": [
        "# Carga el workbook 3 en modo lectura\n",
        "wb = load_workbook(path_csv5, read_only=True)\n",
        "ws = wb.active  # o wb['NombreDeLaHoja']\n",
        "print(\"Filas en la hoja Excel:\", ws.max_row)\n",
        "\n",
        "# Itera todas las filas, valores tal cual (incluye filas vacías)\n",
        "rows = list(ws.iter_rows(values_only=True))\n",
        "\n",
        "# Asume que la primera fila es la cabecera\n",
        "header = rows[0]\n",
        "data   = rows[1:]\n",
        "\n",
        "# Crea el DataFrame completo\n",
        "df_raw = pd.DataFrame(data, columns=header)\n",
        "\n",
        "# Ya puedes inspeccionar cuántas filas trajo Excel realmente\n",
        "print(\"Filas (raw):\", len(rows), \"→ DataFrame:\", df_raw.shape[0])\n",
        "\n",
        "# Ahora procesa df_raw como tu df_analisis:\n",
        "#    — limpia filas completamente vacías si quieres\n",
        "#    — ajusta tipos, renombra columnas, etc.\n",
        "df_2024_clean = df_raw.dropna(how='all').reset_index(drop=True)"
      ],
      "metadata": {
        "colab": {
          "base_uri": "https://localhost:8080/"
        },
        "id": "UCf1-jdPzsGw",
        "outputId": "f6d63875-f7e6-45c6-bce5-46fe9d5cc514"
      },
      "execution_count": 36,
      "outputs": [
        {
          "output_type": "stream",
          "name": "stdout",
          "text": [
            "Filas en la hoja Excel: 5287\n",
            "Filas (raw): 5287 → DataFrame: 5286\n"
          ]
        }
      ]
    },
    {
      "cell_type": "code",
      "source": [
        "# Carga el workbook 3 en modo lectura\n",
        "wb = load_workbook(path_csv6, read_only=True)\n",
        "ws = wb.active  # o wb['NombreDeLaHoja']\n",
        "print(\"Filas en la hoja Excel:\", ws.max_row)\n",
        "\n",
        "# Itera todas las filas, valores tal cual (incluye filas vacías)\n",
        "rows = list(ws.iter_rows(values_only=True))\n",
        "\n",
        "# Asume que la primera fila es la cabecera\n",
        "header = rows[0]\n",
        "data   = rows[1:]\n",
        "\n",
        "# Crea el DataFrame completo\n",
        "df_raw = pd.DataFrame(data, columns=header)\n",
        "\n",
        "# Ya puedes inspeccionar cuántas filas trajo Excel realmente\n",
        "print(\"Filas (raw):\", len(rows), \"→ DataFrame:\", df_raw.shape[0])\n",
        "\n",
        "# Ahora procesa df_raw como tu df_analisis:\n",
        "#    — limpia filas completamente vacías si quieres\n",
        "#    — ajusta tipos, renombra columnas, etc.\n",
        "df_2025_clean = df_raw.dropna(how='all').reset_index(drop=True)"
      ],
      "metadata": {
        "colab": {
          "base_uri": "https://localhost:8080/"
        },
        "id": "qvkzr-aJzxeD",
        "outputId": "54a558de-6e32-44d3-e2ba-616d16af7135"
      },
      "execution_count": 37,
      "outputs": [
        {
          "output_type": "stream",
          "name": "stdout",
          "text": [
            "Filas en la hoja Excel: 751\n",
            "Filas (raw): 751 → DataFrame: 750\n"
          ]
        }
      ]
    },
    {
      "cell_type": "code",
      "source": [
        "# Carga el workbook 4 en modo lectura\n",
        "wb = load_workbook(path_csv_precios_2023, read_only=True)\n",
        "ws = wb.active  # o wb['NombreDeLaHoja']\n",
        "print(\"Filas en la hoja Excel:\", ws.max_row)"
      ],
      "metadata": {
        "colab": {
          "base_uri": "https://localhost:8080/"
        },
        "id": "-FVSay-fcuuY",
        "outputId": "5ceff2da-de99-4797-ce4e-4a1e75e37d0d"
      },
      "execution_count": 38,
      "outputs": [
        {
          "output_type": "stream",
          "name": "stdout",
          "text": [
            "Filas en la hoja Excel: 21451\n"
          ]
        }
      ]
    },
    {
      "cell_type": "code",
      "source": [
        "# Itera las filas a partir de la segunda (ignora la cabecera)\n",
        "rows = list(ws.iter_rows(min_row=2, values_only=True))\n",
        "\n",
        "# Define los nombres de columna esperados\n",
        "columns = [\"REFERENCIA\", \"PRECIO PROVEEDOR\", \"PROVEEDOR\", \"LINEA DE PRODUCTO\", \"DETALLE\", \"AÑO\"]\n",
        "\n",
        "# Crea el DataFrame completo con las columnas definidas\n",
        "df_2023_prices = (\n",
        "    pd.DataFrame(rows, columns=columns)\n",
        "    .dropna(how='all')\n",
        "    .reset_index(drop=True)\n",
        ")\n",
        "\n",
        "# Ya puedes inspeccionar cuántas filas trajo Excel realmente\n",
        "print(\"Filas (raw):\", len(rows), \"→ DataFrame:\", df_2023_prices.shape[0])\n"
      ],
      "metadata": {
        "colab": {
          "base_uri": "https://localhost:8080/"
        },
        "id": "f_PfQ_WcdJoo",
        "outputId": "9d15c9e2-0f43-4a33-99a2-d22835ae48b9"
      },
      "execution_count": 39,
      "outputs": [
        {
          "output_type": "stream",
          "name": "stdout",
          "text": [
            "Filas (raw): 21450 → DataFrame: 21450\n"
          ]
        }
      ]
    },
    {
      "cell_type": "code",
      "source": [
        "# Carga el workbook 6 en modo lectura\n",
        "wb = load_workbook(path_csv_precios_2025, read_only=True)\n",
        "ws = wb.active  # o wb['NombreDeLaHoja']\n",
        "print(\"Filas en la hoja Excel:\", ws.max_row)"
      ],
      "metadata": {
        "colab": {
          "base_uri": "https://localhost:8080/"
        },
        "id": "qUhOnQ9pdRqd",
        "outputId": "6cfc915a-8cf5-4416-eb20-6a87fe0446aa"
      },
      "execution_count": 40,
      "outputs": [
        {
          "output_type": "stream",
          "name": "stdout",
          "text": [
            "Filas en la hoja Excel: 18274\n"
          ]
        }
      ]
    },
    {
      "cell_type": "code",
      "source": [
        "# Itera las filas a partir de la segunda (ignora la cabecera)\n",
        "rows = list(ws.iter_rows(min_row=2, values_only=True))\n",
        "\n",
        "# Define los nombres de columna esperados\n",
        "columns = [\"REFERENCIA\", \"PRECIO PROVEEDOR\", \"PROVEEDOR\", \"LINEA DE PRODUCTO\", \"DETALLE\", \"AÑO\"]\n",
        "\n",
        "# Crea el DataFrame completo con las columnas definidas\n",
        "df_2025_prices = (\n",
        "    pd.DataFrame(rows) # Read all columns\n",
        "    .iloc[:, :len(columns)] # Select only the first 'len(columns)' columns\n",
        "    .set_axis(columns, axis=1) # Set the column names\n",
        "    .dropna(how='all')\n",
        "    .reset_index(drop=True)\n",
        ")\n",
        "\n",
        "# Ya puedes inspeccionar cuántas filas trajo Excel realmente\n",
        "print(\"Filas (raw):\", len(rows), \"→ DataFrame:\", df_2025_prices.shape[0])"
      ],
      "metadata": {
        "colab": {
          "base_uri": "https://localhost:8080/"
        },
        "id": "wNLWHyBidVKO",
        "outputId": "cd83b21b-eb87-4318-9c1f-25da12b07c73"
      },
      "execution_count": 41,
      "outputs": [
        {
          "output_type": "stream",
          "name": "stdout",
          "text": [
            "Filas (raw): 18273 → DataFrame: 18273\n"
          ]
        }
      ]
    },
    {
      "cell_type": "markdown",
      "source": [
        "Un vistazo a todos los archivos"
      ],
      "metadata": {
        "id": "u-xWXedhddmW"
      }
    },
    {
      "cell_type": "code",
      "source": [
        "df_2023_preprocessed.info()"
      ],
      "metadata": {
        "colab": {
          "base_uri": "https://localhost:8080/"
        },
        "id": "lsNc1Svddc4f",
        "outputId": "5936e133-6736-48da-b1a1-486c931e4804"
      },
      "execution_count": 42,
      "outputs": [
        {
          "output_type": "stream",
          "name": "stdout",
          "text": [
            "<class 'pandas.core.frame.DataFrame'>\n",
            "RangeIndex: 2680 entries, 0 to 2679\n",
            "Data columns (total 26 columns):\n",
            " #   Column                     Non-Null Count  Dtype         \n",
            "---  ------                     --------------  -----         \n",
            " 0   Código de compra           2680 non-null   object        \n",
            " 1   Fecha solicitud            2680 non-null   datetime64[ns]\n",
            " 2   Hora                       2680 non-null   object        \n",
            " 3   Fecha de radicación        2680 non-null   datetime64[ns]\n",
            " 4   Mes                        2680 non-null   object        \n",
            " 5   Ciudad                     2680 non-null   object        \n",
            " 6   Id Paciente                2680 non-null   object        \n",
            " 7   Paciente                   2680 non-null   object        \n",
            " 8   Cliente                    2680 non-null   object        \n",
            " 9   Id Cliente                 2680 non-null   object        \n",
            " 10  Institución                2680 non-null   object        \n",
            " 11  Diagnóstico                2680 non-null   object        \n",
            " 12  Médico                     2680 non-null   object        \n",
            " 13  Soporte                    2680 non-null   object        \n",
            " 14  Descripción                2680 non-null   object        \n",
            " 15  Referencia                 2680 non-null   object        \n",
            " 16  Cantidad                   2680 non-null   int64         \n",
            " 17  Proveedor                  2680 non-null   object        \n",
            " 18  Valor unitario             2680 non-null   float64       \n",
            " 19  GroupID                    2680 non-null   object        \n",
            " 20  Valor total línea          2680 non-null   float64       \n",
            " 21  Valor total orden          2680 non-null   float64       \n",
            " 22  Valor unitario_missing     2680 non-null   int64         \n",
            " 23  Valor total línea_missing  2680 non-null   int64         \n",
            " 24  Valor total orden_missing  2680 non-null   int64         \n",
            " 25  Cantidad_missing           2680 non-null   int64         \n",
            "dtypes: datetime64[ns](2), float64(3), int64(5), object(16)\n",
            "memory usage: 544.5+ KB\n"
          ]
        }
      ]
    },
    {
      "cell_type": "code",
      "source": [
        "df_2023_clean.info()"
      ],
      "metadata": {
        "colab": {
          "base_uri": "https://localhost:8080/"
        },
        "id": "WjD9t3Pkz98a",
        "outputId": "bf3c8b0e-61f6-4022-e139-77f771141221"
      },
      "execution_count": 43,
      "outputs": [
        {
          "output_type": "stream",
          "name": "stdout",
          "text": [
            "<class 'pandas.core.frame.DataFrame'>\n",
            "RangeIndex: 9843 entries, 0 to 9842\n",
            "Data columns (total 28 columns):\n",
            " #   Column                     Non-Null Count  Dtype         \n",
            "---  ------                     --------------  -----         \n",
            " 0   CODIGO DE COMPRA           9843 non-null   object        \n",
            " 1   FECHA SOLICITUD            9843 non-null   datetime64[ns]\n",
            " 2   HORA                       9843 non-null   object        \n",
            " 3   FECHA DE RADICACION        9843 non-null   datetime64[ns]\n",
            " 4   MES                        9843 non-null   object        \n",
            " 5   CIUDAD                     9843 non-null   object        \n",
            " 6   ID PACIENTE                9843 non-null   object        \n",
            " 7   PACIENTE                   9843 non-null   object        \n",
            " 8   CLIENTE                    9843 non-null   object        \n",
            " 9   ID CLIENTE                 9843 non-null   object        \n",
            " 10  INSTITUCION                9843 non-null   object        \n",
            " 11  DIAGNOSTICO                9843 non-null   object        \n",
            " 12  MEDICO                     9843 non-null   object        \n",
            " 13  SOPORTE                    9843 non-null   object        \n",
            " 14  DESCRIPCION                9843 non-null   object        \n",
            " 15  REFERENCIA                 9843 non-null   object        \n",
            " 16  CANTIDAD                   9843 non-null   int64         \n",
            " 17  PROVEEDOR                  9843 non-null   object        \n",
            " 18  VALOR UNITARIO             9843 non-null   float64       \n",
            " 19  GROUPID                    9843 non-null   object        \n",
            " 20  VALOR TOTAL LINEA          9843 non-null   float64       \n",
            " 21  VALOR TOTAL ORDEN          9843 non-null   float64       \n",
            " 22  VALOR UNITARIO_MISSING     9843 non-null   int64         \n",
            " 23  VALOR TOTAL LINEA_MISSING  9843 non-null   int64         \n",
            " 24  VALOR TOTAL ORDEN_MISSING  9843 non-null   int64         \n",
            " 25  CANTIDAD_MISSING           9843 non-null   int64         \n",
            " 26  LINEA DE PRODUCTO          9006 non-null   object        \n",
            " 27  DETALLE                    3304 non-null   object        \n",
            "dtypes: datetime64[ns](2), float64(3), int64(5), object(18)\n",
            "memory usage: 2.1+ MB\n"
          ]
        }
      ]
    },
    {
      "cell_type": "code",
      "source": [
        "df_2024_clean.info()"
      ],
      "metadata": {
        "colab": {
          "base_uri": "https://localhost:8080/"
        },
        "id": "nyZkCoQJdhN3",
        "outputId": "469d36a3-8f7a-4a30-fde0-c50e6435e4e9"
      },
      "execution_count": 44,
      "outputs": [
        {
          "output_type": "stream",
          "name": "stdout",
          "text": [
            "<class 'pandas.core.frame.DataFrame'>\n",
            "RangeIndex: 5286 entries, 0 to 5285\n",
            "Data columns (total 32 columns):\n",
            " #   Column                     Non-Null Count  Dtype         \n",
            "---  ------                     --------------  -----         \n",
            " 0   CODIGO DE COMPRA           5286 non-null   object        \n",
            " 1   ESTADO                     5286 non-null   object        \n",
            " 2   FECHA SOLICITUD            5286 non-null   datetime64[ns]\n",
            " 3   HORA                       5286 non-null   object        \n",
            " 4   FECHA DE CX                5286 non-null   datetime64[ns]\n",
            " 5   FECHA DE RADICACION        5286 non-null   datetime64[ns]\n",
            " 6   MES                        5286 non-null   object        \n",
            " 7   CIUDAD                     5286 non-null   object        \n",
            " 8   ID PACIENTE                5286 non-null   object        \n",
            " 9   ASEGURADOR                 5286 non-null   object        \n",
            " 10  EQUIPO                     5286 non-null   object        \n",
            " 11  LINEA DE PRODUCTO          5286 non-null   object        \n",
            " 12  ID CLIENTE                 5286 non-null   object        \n",
            " 13  INSTITUCION                5286 non-null   object        \n",
            " 14  DIAGNOSTICO                5286 non-null   object        \n",
            " 15  MEDICO                     5286 non-null   object        \n",
            " 16  DESCRIPCION                5286 non-null   object        \n",
            " 17  REFERENCIA                 5286 non-null   object        \n",
            " 18  CANTIDAD                   5286 non-null   int64         \n",
            " 19  PROVEEDOR                  5286 non-null   object        \n",
            " 20  VALOR UNITARIO             5286 non-null   int64         \n",
            " 21  GROUPID                    5286 non-null   object        \n",
            " 22  VALOR TOTAL LINEA          5286 non-null   int64         \n",
            " 23  VALOR TOTAL ORDEN          5286 non-null   int64         \n",
            " 24  COMPRA_FACTURADA           5286 non-null   int64         \n",
            " 25  RADICACION_IMPUTADA        5286 non-null   int64         \n",
            " 26  COMPRA_MISSING             5286 non-null   int64         \n",
            " 27  VALOR UNITARIO_MISSING     5286 non-null   int64         \n",
            " 28  VALOR TOTAL LINEA_MISSING  5286 non-null   int64         \n",
            " 29  VALOR TOTAL ORDEN_MISSING  5286 non-null   int64         \n",
            " 30  CANTIDAD_MISSING           5286 non-null   int64         \n",
            " 31  DETALLE                    2896 non-null   object        \n",
            "dtypes: datetime64[ns](3), int64(11), object(18)\n",
            "memory usage: 1.3+ MB\n"
          ]
        }
      ]
    },
    {
      "cell_type": "code",
      "source": [
        "df_2025_clean.info()"
      ],
      "metadata": {
        "colab": {
          "base_uri": "https://localhost:8080/"
        },
        "id": "CJ_ddYwWdjkO",
        "outputId": "c6310b72-193e-4f6d-d072-c04b1cd829b7"
      },
      "execution_count": 45,
      "outputs": [
        {
          "output_type": "stream",
          "name": "stdout",
          "text": [
            "<class 'pandas.core.frame.DataFrame'>\n",
            "RangeIndex: 750 entries, 0 to 749\n",
            "Data columns (total 28 columns):\n",
            " #   Column               Non-Null Count  Dtype         \n",
            "---  ------               --------------  -----         \n",
            " 0   CODIGO DE COMPRA     750 non-null    int64         \n",
            " 1   ID PACIENTE          750 non-null    object        \n",
            " 2   PACIENTE             750 non-null    object        \n",
            " 3   PROVEEDOR            750 non-null    object        \n",
            " 4   ID CLIENTE           750 non-null    int64         \n",
            " 5   CLIENTE              750 non-null    object        \n",
            " 6   REFERENCIA           750 non-null    object        \n",
            " 7   DESCRIPCION          750 non-null    object        \n",
            " 8   VALOR UNITARIO       743 non-null    float64       \n",
            " 9   CANTIDAD             750 non-null    int64         \n",
            " 10  VALOR TOTAL LINEA    750 non-null    object        \n",
            " 11  FECHA SOLICITUD      750 non-null    datetime64[ns]\n",
            " 12  ESTADO               750 non-null    object        \n",
            " 13  VALIDACION           750 non-null    object        \n",
            " 14  EQUIPO               750 non-null    object        \n",
            " 15  LINEA DE PRODUCTO    750 non-null    object        \n",
            " 16  HORA                 750 non-null    object        \n",
            " 17  FECHA DE CX          750 non-null    datetime64[ns]\n",
            " 18  INSTITUCION          750 non-null    object        \n",
            " 19  CIUDAD               750 non-null    object        \n",
            " 20  DIAGNOSTICO          750 non-null    object        \n",
            " 21  MEDICO               750 non-null    object        \n",
            " 22  SOPORTE              750 non-null    object        \n",
            " 23  ASEGURADOR           750 non-null    object        \n",
            " 24  FECHA DE RADICACION  750 non-null    datetime64[ns]\n",
            " 25  MATERIAL IMPLANTADO  750 non-null    object        \n",
            " 26  MES                  750 non-null    object        \n",
            " 27  DETALLE              225 non-null    object        \n",
            "dtypes: datetime64[ns](3), float64(1), int64(3), object(21)\n",
            "memory usage: 164.2+ KB\n"
          ]
        }
      ]
    },
    {
      "cell_type": "code",
      "source": [
        "df_2023_prices.info()"
      ],
      "metadata": {
        "colab": {
          "base_uri": "https://localhost:8080/"
        },
        "id": "sP4s73WmdlTf",
        "outputId": "315ddcaa-7e12-4a9e-e034-ad19bcae5249"
      },
      "execution_count": 46,
      "outputs": [
        {
          "output_type": "stream",
          "name": "stdout",
          "text": [
            "<class 'pandas.core.frame.DataFrame'>\n",
            "RangeIndex: 21450 entries, 0 to 21449\n",
            "Data columns (total 6 columns):\n",
            " #   Column             Non-Null Count  Dtype \n",
            "---  ------             --------------  ----- \n",
            " 0   REFERENCIA         21450 non-null  object\n",
            " 1   PRECIO PROVEEDOR   21449 non-null  object\n",
            " 2   PROVEEDOR          21450 non-null  object\n",
            " 3   LINEA DE PRODUCTO  21450 non-null  object\n",
            " 4   DETALLE            16350 non-null  object\n",
            " 5   AÑO                21450 non-null  int64 \n",
            "dtypes: int64(1), object(5)\n",
            "memory usage: 1005.6+ KB\n"
          ]
        }
      ]
    },
    {
      "cell_type": "code",
      "source": [
        "df_2025_prices.info()"
      ],
      "metadata": {
        "colab": {
          "base_uri": "https://localhost:8080/"
        },
        "id": "IJds-yTHdoxl",
        "outputId": "edd20957-3064-43f2-b4d2-7687f0d2ae2d"
      },
      "execution_count": 47,
      "outputs": [
        {
          "output_type": "stream",
          "name": "stdout",
          "text": [
            "<class 'pandas.core.frame.DataFrame'>\n",
            "RangeIndex: 18273 entries, 0 to 18272\n",
            "Data columns (total 6 columns):\n",
            " #   Column             Non-Null Count  Dtype  \n",
            "---  ------             --------------  -----  \n",
            " 0   REFERENCIA         18273 non-null  object \n",
            " 1   PRECIO PROVEEDOR   18273 non-null  float64\n",
            " 2   PROVEEDOR          18273 non-null  object \n",
            " 3   LINEA DE PRODUCTO  18273 non-null  object \n",
            " 4   DETALLE            10165 non-null  object \n",
            " 5   AÑO                18273 non-null  int64  \n",
            "dtypes: float64(1), int64(1), object(4)\n",
            "memory usage: 856.7+ KB\n"
          ]
        }
      ]
    },
    {
      "cell_type": "code",
      "source": [
        "df_2024_preprocessed.info()"
      ],
      "metadata": {
        "colab": {
          "base_uri": "https://localhost:8080/"
        },
        "id": "GXa7wtS0TmGB",
        "outputId": "6af54435-f392-432d-a6fc-2189957be421"
      },
      "execution_count": 48,
      "outputs": [
        {
          "output_type": "stream",
          "name": "stdout",
          "text": [
            "<class 'pandas.core.frame.DataFrame'>\n",
            "RangeIndex: 5286 entries, 0 to 5285\n",
            "Data columns (total 31 columns):\n",
            " #   Column                     Non-Null Count  Dtype         \n",
            "---  ------                     --------------  -----         \n",
            " 0   Código de compra           5286 non-null   object        \n",
            " 1   Estado                     5286 non-null   object        \n",
            " 2   Fecha solicitud            5286 non-null   datetime64[ns]\n",
            " 3   Hora                       5286 non-null   object        \n",
            " 4   Fecha de CX                5286 non-null   datetime64[ns]\n",
            " 5   Fecha de radicación        5286 non-null   datetime64[ns]\n",
            " 6   Mes                        5286 non-null   object        \n",
            " 7   Ciudad                     5286 non-null   object        \n",
            " 8   Id Paciente                5286 non-null   object        \n",
            " 9   Asegurador                 5286 non-null   object        \n",
            " 10  Equipo                     5286 non-null   object        \n",
            " 11  Línea de producto          5286 non-null   object        \n",
            " 12  Id Cliente                 5286 non-null   object        \n",
            " 13  Institución                5286 non-null   object        \n",
            " 14  Diagnóstico                5286 non-null   object        \n",
            " 15  Médico                     5286 non-null   object        \n",
            " 16  Descripción                5286 non-null   object        \n",
            " 17  Referencia                 5286 non-null   object        \n",
            " 18  Cantidad                   5286 non-null   int64         \n",
            " 19  Proveedor                  5286 non-null   object        \n",
            " 20  Valor unitario             5286 non-null   int64         \n",
            " 21  GroupID                    5286 non-null   object        \n",
            " 22  Valor total línea          5286 non-null   int64         \n",
            " 23  Valor total orden          5286 non-null   int64         \n",
            " 24  Compra_facturada           5286 non-null   int64         \n",
            " 25  Radicación_imputada        5286 non-null   int64         \n",
            " 26  Compra_missing             5286 non-null   int64         \n",
            " 27  Valor unitario_missing     5286 non-null   int64         \n",
            " 28  Valor total línea_missing  5286 non-null   int64         \n",
            " 29  Valor total orden_missing  5286 non-null   int64         \n",
            " 30  Cantidad_missing           5286 non-null   int64         \n",
            "dtypes: datetime64[ns](3), int64(11), object(17)\n",
            "memory usage: 1.3+ MB\n"
          ]
        }
      ]
    },
    {
      "cell_type": "code",
      "source": [
        "df_2024_preprocessed['Valor unitario'] = df_2024_preprocessed['Valor unitario'] / 10\n",
        "display(df_2024_preprocessed.head())"
      ],
      "metadata": {
        "colab": {
          "base_uri": "https://localhost:8080/",
          "height": 377
        },
        "id": "hJHuzf8-Ty5b",
        "outputId": "96a6cbff-0d64-437d-833d-e159f304f82d"
      },
      "execution_count": 49,
      "outputs": [
        {
          "output_type": "display_data",
          "data": {
            "text/plain": [
              "  Código de compra     Estado Fecha solicitud   Hora Fecha de CX  \\\n",
              "0             1185  Realizada      2023-01-03  08:00  2023-01-03   \n",
              "1             1185  Realizada      2023-01-03  08:00  2023-01-03   \n",
              "2             1185  Realizada      2023-01-03  08:00  2023-01-03   \n",
              "3             1185  Realizada      2023-01-03  08:00  2023-01-03   \n",
              "4             1185  Realizada      2023-01-03  08:00  2023-01-03   \n",
              "\n",
              "  Fecha de radicación    Mes   Ciudad Id Paciente Asegurador  ... GroupID  \\\n",
              "0          2024-01-15  Enero  Cartago   PAC000001   EPS SURA  ...    1185   \n",
              "1          2024-01-15  Enero  Cartago   PAC000001   EPS SURA  ...    1185   \n",
              "2          2024-01-15  Enero  Cartago   PAC000001   EPS SURA  ...    1185   \n",
              "3          2024-01-15  Enero  Cartago   PAC000001   EPS SURA  ...    1185   \n",
              "4          2024-01-15  Enero  Cartago   PAC000001   EPS SURA  ...    1185   \n",
              "\n",
              "  Valor total línea Valor total orden Compra_facturada Radicación_imputada  \\\n",
              "0           1818000          23478000                1                   0   \n",
              "1           4080000          23478000                1                   0   \n",
              "2           1350000          23478000                1                   0   \n",
              "3           4050000          23478000                1                   0   \n",
              "4           1350000          23478000                1                   0   \n",
              "\n",
              "  Compra_missing Valor unitario_missing Valor total línea_missing  \\\n",
              "0              0                      0                         0   \n",
              "1              0                      0                         0   \n",
              "2              0                      0                         0   \n",
              "3              0                      0                         0   \n",
              "4              0                      0                         0   \n",
              "\n",
              "   Valor total orden_missing Cantidad_missing  \n",
              "0                          0                0  \n",
              "1                          0                0  \n",
              "2                          0                0  \n",
              "3                          0                0  \n",
              "4                          0                0  \n",
              "\n",
              "[5 rows x 31 columns]"
            ],
            "text/html": [
              "\n",
              "  <div id=\"df-c04e9418-9338-46ee-b179-818673280635\" class=\"colab-df-container\">\n",
              "    <div>\n",
              "<style scoped>\n",
              "    .dataframe tbody tr th:only-of-type {\n",
              "        vertical-align: middle;\n",
              "    }\n",
              "\n",
              "    .dataframe tbody tr th {\n",
              "        vertical-align: top;\n",
              "    }\n",
              "\n",
              "    .dataframe thead th {\n",
              "        text-align: right;\n",
              "    }\n",
              "</style>\n",
              "<table border=\"1\" class=\"dataframe\">\n",
              "  <thead>\n",
              "    <tr style=\"text-align: right;\">\n",
              "      <th></th>\n",
              "      <th>Código de compra</th>\n",
              "      <th>Estado</th>\n",
              "      <th>Fecha solicitud</th>\n",
              "      <th>Hora</th>\n",
              "      <th>Fecha de CX</th>\n",
              "      <th>Fecha de radicación</th>\n",
              "      <th>Mes</th>\n",
              "      <th>Ciudad</th>\n",
              "      <th>Id Paciente</th>\n",
              "      <th>Asegurador</th>\n",
              "      <th>...</th>\n",
              "      <th>GroupID</th>\n",
              "      <th>Valor total línea</th>\n",
              "      <th>Valor total orden</th>\n",
              "      <th>Compra_facturada</th>\n",
              "      <th>Radicación_imputada</th>\n",
              "      <th>Compra_missing</th>\n",
              "      <th>Valor unitario_missing</th>\n",
              "      <th>Valor total línea_missing</th>\n",
              "      <th>Valor total orden_missing</th>\n",
              "      <th>Cantidad_missing</th>\n",
              "    </tr>\n",
              "  </thead>\n",
              "  <tbody>\n",
              "    <tr>\n",
              "      <th>0</th>\n",
              "      <td>1185</td>\n",
              "      <td>Realizada</td>\n",
              "      <td>2023-01-03</td>\n",
              "      <td>08:00</td>\n",
              "      <td>2023-01-03</td>\n",
              "      <td>2024-01-15</td>\n",
              "      <td>Enero</td>\n",
              "      <td>Cartago</td>\n",
              "      <td>PAC000001</td>\n",
              "      <td>EPS SURA</td>\n",
              "      <td>...</td>\n",
              "      <td>1185</td>\n",
              "      <td>1818000</td>\n",
              "      <td>23478000</td>\n",
              "      <td>1</td>\n",
              "      <td>0</td>\n",
              "      <td>0</td>\n",
              "      <td>0</td>\n",
              "      <td>0</td>\n",
              "      <td>0</td>\n",
              "      <td>0</td>\n",
              "    </tr>\n",
              "    <tr>\n",
              "      <th>1</th>\n",
              "      <td>1185</td>\n",
              "      <td>Realizada</td>\n",
              "      <td>2023-01-03</td>\n",
              "      <td>08:00</td>\n",
              "      <td>2023-01-03</td>\n",
              "      <td>2024-01-15</td>\n",
              "      <td>Enero</td>\n",
              "      <td>Cartago</td>\n",
              "      <td>PAC000001</td>\n",
              "      <td>EPS SURA</td>\n",
              "      <td>...</td>\n",
              "      <td>1185</td>\n",
              "      <td>4080000</td>\n",
              "      <td>23478000</td>\n",
              "      <td>1</td>\n",
              "      <td>0</td>\n",
              "      <td>0</td>\n",
              "      <td>0</td>\n",
              "      <td>0</td>\n",
              "      <td>0</td>\n",
              "      <td>0</td>\n",
              "    </tr>\n",
              "    <tr>\n",
              "      <th>2</th>\n",
              "      <td>1185</td>\n",
              "      <td>Realizada</td>\n",
              "      <td>2023-01-03</td>\n",
              "      <td>08:00</td>\n",
              "      <td>2023-01-03</td>\n",
              "      <td>2024-01-15</td>\n",
              "      <td>Enero</td>\n",
              "      <td>Cartago</td>\n",
              "      <td>PAC000001</td>\n",
              "      <td>EPS SURA</td>\n",
              "      <td>...</td>\n",
              "      <td>1185</td>\n",
              "      <td>1350000</td>\n",
              "      <td>23478000</td>\n",
              "      <td>1</td>\n",
              "      <td>0</td>\n",
              "      <td>0</td>\n",
              "      <td>0</td>\n",
              "      <td>0</td>\n",
              "      <td>0</td>\n",
              "      <td>0</td>\n",
              "    </tr>\n",
              "    <tr>\n",
              "      <th>3</th>\n",
              "      <td>1185</td>\n",
              "      <td>Realizada</td>\n",
              "      <td>2023-01-03</td>\n",
              "      <td>08:00</td>\n",
              "      <td>2023-01-03</td>\n",
              "      <td>2024-01-15</td>\n",
              "      <td>Enero</td>\n",
              "      <td>Cartago</td>\n",
              "      <td>PAC000001</td>\n",
              "      <td>EPS SURA</td>\n",
              "      <td>...</td>\n",
              "      <td>1185</td>\n",
              "      <td>4050000</td>\n",
              "      <td>23478000</td>\n",
              "      <td>1</td>\n",
              "      <td>0</td>\n",
              "      <td>0</td>\n",
              "      <td>0</td>\n",
              "      <td>0</td>\n",
              "      <td>0</td>\n",
              "      <td>0</td>\n",
              "    </tr>\n",
              "    <tr>\n",
              "      <th>4</th>\n",
              "      <td>1185</td>\n",
              "      <td>Realizada</td>\n",
              "      <td>2023-01-03</td>\n",
              "      <td>08:00</td>\n",
              "      <td>2023-01-03</td>\n",
              "      <td>2024-01-15</td>\n",
              "      <td>Enero</td>\n",
              "      <td>Cartago</td>\n",
              "      <td>PAC000001</td>\n",
              "      <td>EPS SURA</td>\n",
              "      <td>...</td>\n",
              "      <td>1185</td>\n",
              "      <td>1350000</td>\n",
              "      <td>23478000</td>\n",
              "      <td>1</td>\n",
              "      <td>0</td>\n",
              "      <td>0</td>\n",
              "      <td>0</td>\n",
              "      <td>0</td>\n",
              "      <td>0</td>\n",
              "      <td>0</td>\n",
              "    </tr>\n",
              "  </tbody>\n",
              "</table>\n",
              "<p>5 rows × 31 columns</p>\n",
              "</div>\n",
              "    <div class=\"colab-df-buttons\">\n",
              "\n",
              "  <div class=\"colab-df-container\">\n",
              "    <button class=\"colab-df-convert\" onclick=\"convertToInteractive('df-c04e9418-9338-46ee-b179-818673280635')\"\n",
              "            title=\"Convert this dataframe to an interactive table.\"\n",
              "            style=\"display:none;\">\n",
              "\n",
              "  <svg xmlns=\"http://www.w3.org/2000/svg\" height=\"24px\" viewBox=\"0 -960 960 960\">\n",
              "    <path d=\"M120-120v-720h720v720H120Zm60-500h600v-160H180v160Zm220 220h160v-160H400v160Zm0 220h160v-160H400v160ZM180-400h160v-160H180v160Zm440 0h160v-160H620v160ZM180-180h160v-160H180v160Zm440 0h160v-160H620v160Z\"/>\n",
              "  </svg>\n",
              "    </button>\n",
              "\n",
              "  <style>\n",
              "    .colab-df-container {\n",
              "      display:flex;\n",
              "      gap: 12px;\n",
              "    }\n",
              "\n",
              "    .colab-df-convert {\n",
              "      background-color: #E8F0FE;\n",
              "      border: none;\n",
              "      border-radius: 50%;\n",
              "      cursor: pointer;\n",
              "      display: none;\n",
              "      fill: #1967D2;\n",
              "      height: 32px;\n",
              "      padding: 0 0 0 0;\n",
              "      width: 32px;\n",
              "    }\n",
              "\n",
              "    .colab-df-convert:hover {\n",
              "      background-color: #E2EBFA;\n",
              "      box-shadow: 0px 1px 2px rgba(60, 64, 67, 0.3), 0px 1px 3px 1px rgba(60, 64, 67, 0.15);\n",
              "      fill: #174EA6;\n",
              "    }\n",
              "\n",
              "    .colab-df-buttons div {\n",
              "      margin-bottom: 4px;\n",
              "    }\n",
              "\n",
              "    [theme=dark] .colab-df-convert {\n",
              "      background-color: #3B4455;\n",
              "      fill: #D2E3FC;\n",
              "    }\n",
              "\n",
              "    [theme=dark] .colab-df-convert:hover {\n",
              "      background-color: #434B5C;\n",
              "      box-shadow: 0px 1px 3px 1px rgba(0, 0, 0, 0.15);\n",
              "      filter: drop-shadow(0px 1px 2px rgba(0, 0, 0, 0.3));\n",
              "      fill: #FFFFFF;\n",
              "    }\n",
              "  </style>\n",
              "\n",
              "    <script>\n",
              "      const buttonEl =\n",
              "        document.querySelector('#df-c04e9418-9338-46ee-b179-818673280635 button.colab-df-convert');\n",
              "      buttonEl.style.display =\n",
              "        google.colab.kernel.accessAllowed ? 'block' : 'none';\n",
              "\n",
              "      async function convertToInteractive(key) {\n",
              "        const element = document.querySelector('#df-c04e9418-9338-46ee-b179-818673280635');\n",
              "        const dataTable =\n",
              "          await google.colab.kernel.invokeFunction('convertToInteractive',\n",
              "                                                    [key], {});\n",
              "        if (!dataTable) return;\n",
              "\n",
              "        const docLinkHtml = 'Like what you see? Visit the ' +\n",
              "          '<a target=\"_blank\" href=https://colab.research.google.com/notebooks/data_table.ipynb>data table notebook</a>'\n",
              "          + ' to learn more about interactive tables.';\n",
              "        element.innerHTML = '';\n",
              "        dataTable['output_type'] = 'display_data';\n",
              "        await google.colab.output.renderOutput(dataTable, element);\n",
              "        const docLink = document.createElement('div');\n",
              "        docLink.innerHTML = docLinkHtml;\n",
              "        element.appendChild(docLink);\n",
              "      }\n",
              "    </script>\n",
              "  </div>\n",
              "\n",
              "\n",
              "    <div id=\"df-aa4d9e6e-c5a9-4c1a-862b-52482eb18f88\">\n",
              "      <button class=\"colab-df-quickchart\" onclick=\"quickchart('df-aa4d9e6e-c5a9-4c1a-862b-52482eb18f88')\"\n",
              "                title=\"Suggest charts\"\n",
              "                style=\"display:none;\">\n",
              "\n",
              "<svg xmlns=\"http://www.w3.org/2000/svg\" height=\"24px\"viewBox=\"0 0 24 24\"\n",
              "     width=\"24px\">\n",
              "    <g>\n",
              "        <path d=\"M19 3H5c-1.1 0-2 .9-2 2v14c0 1.1.9 2 2 2h14c1.1 0 2-.9 2-2V5c0-1.1-.9-2-2-2zM9 17H7v-7h2v7zm4 0h-2V7h2v10zm4 0h-2v-4h2v4z\"/>\n",
              "    </g>\n",
              "</svg>\n",
              "      </button>\n",
              "\n",
              "<style>\n",
              "  .colab-df-quickchart {\n",
              "      --bg-color: #E8F0FE;\n",
              "      --fill-color: #1967D2;\n",
              "      --hover-bg-color: #E2EBFA;\n",
              "      --hover-fill-color: #174EA6;\n",
              "      --disabled-fill-color: #AAA;\n",
              "      --disabled-bg-color: #DDD;\n",
              "  }\n",
              "\n",
              "  [theme=dark] .colab-df-quickchart {\n",
              "      --bg-color: #3B4455;\n",
              "      --fill-color: #D2E3FC;\n",
              "      --hover-bg-color: #434B5C;\n",
              "      --hover-fill-color: #FFFFFF;\n",
              "      --disabled-bg-color: #3B4455;\n",
              "      --disabled-fill-color: #666;\n",
              "  }\n",
              "\n",
              "  .colab-df-quickchart {\n",
              "    background-color: var(--bg-color);\n",
              "    border: none;\n",
              "    border-radius: 50%;\n",
              "    cursor: pointer;\n",
              "    display: none;\n",
              "    fill: var(--fill-color);\n",
              "    height: 32px;\n",
              "    padding: 0;\n",
              "    width: 32px;\n",
              "  }\n",
              "\n",
              "  .colab-df-quickchart:hover {\n",
              "    background-color: var(--hover-bg-color);\n",
              "    box-shadow: 0 1px 2px rgba(60, 64, 67, 0.3), 0 1px 3px 1px rgba(60, 64, 67, 0.15);\n",
              "    fill: var(--button-hover-fill-color);\n",
              "  }\n",
              "\n",
              "  .colab-df-quickchart-complete:disabled,\n",
              "  .colab-df-quickchart-complete:disabled:hover {\n",
              "    background-color: var(--disabled-bg-color);\n",
              "    fill: var(--disabled-fill-color);\n",
              "    box-shadow: none;\n",
              "  }\n",
              "\n",
              "  .colab-df-spinner {\n",
              "    border: 2px solid var(--fill-color);\n",
              "    border-color: transparent;\n",
              "    border-bottom-color: var(--fill-color);\n",
              "    animation:\n",
              "      spin 1s steps(1) infinite;\n",
              "  }\n",
              "\n",
              "  @keyframes spin {\n",
              "    0% {\n",
              "      border-color: transparent;\n",
              "      border-bottom-color: var(--fill-color);\n",
              "      border-left-color: var(--fill-color);\n",
              "    }\n",
              "    20% {\n",
              "      border-color: transparent;\n",
              "      border-left-color: var(--fill-color);\n",
              "      border-top-color: var(--fill-color);\n",
              "    }\n",
              "    30% {\n",
              "      border-color: transparent;\n",
              "      border-left-color: var(--fill-color);\n",
              "      border-top-color: var(--fill-color);\n",
              "      border-right-color: var(--fill-color);\n",
              "    }\n",
              "    40% {\n",
              "      border-color: transparent;\n",
              "      border-right-color: var(--fill-color);\n",
              "      border-top-color: var(--fill-color);\n",
              "    }\n",
              "    60% {\n",
              "      border-color: transparent;\n",
              "      border-right-color: var(--fill-color);\n",
              "    }\n",
              "    80% {\n",
              "      border-color: transparent;\n",
              "      border-right-color: var(--fill-color);\n",
              "      border-bottom-color: var(--fill-color);\n",
              "    }\n",
              "    90% {\n",
              "      border-color: transparent;\n",
              "      border-bottom-color: var(--fill-color);\n",
              "    }\n",
              "  }\n",
              "</style>\n",
              "\n",
              "      <script>\n",
              "        async function quickchart(key) {\n",
              "          const quickchartButtonEl =\n",
              "            document.querySelector('#' + key + ' button');\n",
              "          quickchartButtonEl.disabled = true;  // To prevent multiple clicks.\n",
              "          quickchartButtonEl.classList.add('colab-df-spinner');\n",
              "          try {\n",
              "            const charts = await google.colab.kernel.invokeFunction(\n",
              "                'suggestCharts', [key], {});\n",
              "          } catch (error) {\n",
              "            console.error('Error during call to suggestCharts:', error);\n",
              "          }\n",
              "          quickchartButtonEl.classList.remove('colab-df-spinner');\n",
              "          quickchartButtonEl.classList.add('colab-df-quickchart-complete');\n",
              "        }\n",
              "        (() => {\n",
              "          let quickchartButtonEl =\n",
              "            document.querySelector('#df-aa4d9e6e-c5a9-4c1a-862b-52482eb18f88 button');\n",
              "          quickchartButtonEl.style.display =\n",
              "            google.colab.kernel.accessAllowed ? 'block' : 'none';\n",
              "        })();\n",
              "      </script>\n",
              "    </div>\n",
              "\n",
              "    </div>\n",
              "  </div>\n"
            ],
            "application/vnd.google.colaboratory.intrinsic+json": {
              "type": "dataframe"
            }
          },
          "metadata": {}
        }
      ]
    }
  ]
}