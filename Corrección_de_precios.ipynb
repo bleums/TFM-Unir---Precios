{
  "nbformat": 4,
  "nbformat_minor": 0,
  "metadata": {
    "colab": {
      "provenance": [],
      "include_colab_link": true
    },
    "kernelspec": {
      "name": "python3",
      "display_name": "Python 3"
    },
    "language_info": {
      "name": "python"
    }
  },
  "cells": [
    {
      "cell_type": "markdown",
      "metadata": {
        "id": "view-in-github",
        "colab_type": "text"
      },
      "source": [
        "<a href=\"https://colab.research.google.com/github/bleums/TFM-Unir---Precios/blob/main/Correcci%C3%B3n_de_precios.ipynb\" target=\"_parent\"><img src=\"https://colab.research.google.com/assets/colab-badge.svg\" alt=\"Open In Colab\"/></a>"
      ]
    },
    {
      "cell_type": "code",
      "execution_count": 1,
      "metadata": {
        "id": "Vu2L4wA_s1FB",
        "outputId": "0a58cad7-07d2-4002-a909-d669db3dac20",
        "colab": {
          "base_uri": "https://localhost:8080/",
          "height": 358
        }
      },
      "outputs": [
        {
          "output_type": "display_data",
          "data": {
            "text/plain": [
              "<IPython.core.display.HTML object>"
            ],
            "text/html": [
              "\n",
              "     <input type=\"file\" id=\"files-a73be86c-dc05-4adb-b89d-872af5a8582f\" name=\"files[]\" multiple disabled\n",
              "        style=\"border:none\" />\n",
              "     <output id=\"result-a73be86c-dc05-4adb-b89d-872af5a8582f\">\n",
              "      Upload widget is only available when the cell has been executed in the\n",
              "      current browser session. Please rerun this cell to enable.\n",
              "      </output>\n",
              "      <script>// Copyright 2017 Google LLC\n",
              "//\n",
              "// Licensed under the Apache License, Version 2.0 (the \"License\");\n",
              "// you may not use this file except in compliance with the License.\n",
              "// You may obtain a copy of the License at\n",
              "//\n",
              "//      http://www.apache.org/licenses/LICENSE-2.0\n",
              "//\n",
              "// Unless required by applicable law or agreed to in writing, software\n",
              "// distributed under the License is distributed on an \"AS IS\" BASIS,\n",
              "// WITHOUT WARRANTIES OR CONDITIONS OF ANY KIND, either express or implied.\n",
              "// See the License for the specific language governing permissions and\n",
              "// limitations under the License.\n",
              "\n",
              "/**\n",
              " * @fileoverview Helpers for google.colab Python module.\n",
              " */\n",
              "(function(scope) {\n",
              "function span(text, styleAttributes = {}) {\n",
              "  const element = document.createElement('span');\n",
              "  element.textContent = text;\n",
              "  for (const key of Object.keys(styleAttributes)) {\n",
              "    element.style[key] = styleAttributes[key];\n",
              "  }\n",
              "  return element;\n",
              "}\n",
              "\n",
              "// Max number of bytes which will be uploaded at a time.\n",
              "const MAX_PAYLOAD_SIZE = 100 * 1024;\n",
              "\n",
              "function _uploadFiles(inputId, outputId) {\n",
              "  const steps = uploadFilesStep(inputId, outputId);\n",
              "  const outputElement = document.getElementById(outputId);\n",
              "  // Cache steps on the outputElement to make it available for the next call\n",
              "  // to uploadFilesContinue from Python.\n",
              "  outputElement.steps = steps;\n",
              "\n",
              "  return _uploadFilesContinue(outputId);\n",
              "}\n",
              "\n",
              "// This is roughly an async generator (not supported in the browser yet),\n",
              "// where there are multiple asynchronous steps and the Python side is going\n",
              "// to poll for completion of each step.\n",
              "// This uses a Promise to block the python side on completion of each step,\n",
              "// then passes the result of the previous step as the input to the next step.\n",
              "function _uploadFilesContinue(outputId) {\n",
              "  const outputElement = document.getElementById(outputId);\n",
              "  const steps = outputElement.steps;\n",
              "\n",
              "  const next = steps.next(outputElement.lastPromiseValue);\n",
              "  return Promise.resolve(next.value.promise).then((value) => {\n",
              "    // Cache the last promise value to make it available to the next\n",
              "    // step of the generator.\n",
              "    outputElement.lastPromiseValue = value;\n",
              "    return next.value.response;\n",
              "  });\n",
              "}\n",
              "\n",
              "/**\n",
              " * Generator function which is called between each async step of the upload\n",
              " * process.\n",
              " * @param {string} inputId Element ID of the input file picker element.\n",
              " * @param {string} outputId Element ID of the output display.\n",
              " * @return {!Iterable<!Object>} Iterable of next steps.\n",
              " */\n",
              "function* uploadFilesStep(inputId, outputId) {\n",
              "  const inputElement = document.getElementById(inputId);\n",
              "  inputElement.disabled = false;\n",
              "\n",
              "  const outputElement = document.getElementById(outputId);\n",
              "  outputElement.innerHTML = '';\n",
              "\n",
              "  const pickedPromise = new Promise((resolve) => {\n",
              "    inputElement.addEventListener('change', (e) => {\n",
              "      resolve(e.target.files);\n",
              "    });\n",
              "  });\n",
              "\n",
              "  const cancel = document.createElement('button');\n",
              "  inputElement.parentElement.appendChild(cancel);\n",
              "  cancel.textContent = 'Cancel upload';\n",
              "  const cancelPromise = new Promise((resolve) => {\n",
              "    cancel.onclick = () => {\n",
              "      resolve(null);\n",
              "    };\n",
              "  });\n",
              "\n",
              "  // Wait for the user to pick the files.\n",
              "  const files = yield {\n",
              "    promise: Promise.race([pickedPromise, cancelPromise]),\n",
              "    response: {\n",
              "      action: 'starting',\n",
              "    }\n",
              "  };\n",
              "\n",
              "  cancel.remove();\n",
              "\n",
              "  // Disable the input element since further picks are not allowed.\n",
              "  inputElement.disabled = true;\n",
              "\n",
              "  if (!files) {\n",
              "    return {\n",
              "      response: {\n",
              "        action: 'complete',\n",
              "      }\n",
              "    };\n",
              "  }\n",
              "\n",
              "  for (const file of files) {\n",
              "    const li = document.createElement('li');\n",
              "    li.append(span(file.name, {fontWeight: 'bold'}));\n",
              "    li.append(span(\n",
              "        `(${file.type || 'n/a'}) - ${file.size} bytes, ` +\n",
              "        `last modified: ${\n",
              "            file.lastModifiedDate ? file.lastModifiedDate.toLocaleDateString() :\n",
              "                                    'n/a'} - `));\n",
              "    const percent = span('0% done');\n",
              "    li.appendChild(percent);\n",
              "\n",
              "    outputElement.appendChild(li);\n",
              "\n",
              "    const fileDataPromise = new Promise((resolve) => {\n",
              "      const reader = new FileReader();\n",
              "      reader.onload = (e) => {\n",
              "        resolve(e.target.result);\n",
              "      };\n",
              "      reader.readAsArrayBuffer(file);\n",
              "    });\n",
              "    // Wait for the data to be ready.\n",
              "    let fileData = yield {\n",
              "      promise: fileDataPromise,\n",
              "      response: {\n",
              "        action: 'continue',\n",
              "      }\n",
              "    };\n",
              "\n",
              "    // Use a chunked sending to avoid message size limits. See b/62115660.\n",
              "    let position = 0;\n",
              "    do {\n",
              "      const length = Math.min(fileData.byteLength - position, MAX_PAYLOAD_SIZE);\n",
              "      const chunk = new Uint8Array(fileData, position, length);\n",
              "      position += length;\n",
              "\n",
              "      const base64 = btoa(String.fromCharCode.apply(null, chunk));\n",
              "      yield {\n",
              "        response: {\n",
              "          action: 'append',\n",
              "          file: file.name,\n",
              "          data: base64,\n",
              "        },\n",
              "      };\n",
              "\n",
              "      let percentDone = fileData.byteLength === 0 ?\n",
              "          100 :\n",
              "          Math.round((position / fileData.byteLength) * 100);\n",
              "      percent.textContent = `${percentDone}% done`;\n",
              "\n",
              "    } while (position < fileData.byteLength);\n",
              "  }\n",
              "\n",
              "  // All done.\n",
              "  yield {\n",
              "    response: {\n",
              "      action: 'complete',\n",
              "    }\n",
              "  };\n",
              "}\n",
              "\n",
              "scope.google = scope.google || {};\n",
              "scope.google.colab = scope.google.colab || {};\n",
              "scope.google.colab._files = {\n",
              "  _uploadFiles,\n",
              "  _uploadFilesContinue,\n",
              "};\n",
              "})(self);\n",
              "</script> "
            ]
          },
          "metadata": {}
        },
        {
          "output_type": "stream",
          "name": "stdout",
          "text": [
            "Saving Consolidado Referencias 2023 actualizado.xlsx to Consolidado Referencias 2023 actualizado.xlsx\n",
            "Saving Consolidado Referencias 2025.xlsx to Consolidado Referencias 2025.xlsx\n",
            "Saving datos 2023 preprocesados.xlsx to datos 2023 preprocesados.xlsx\n",
            "Saving datos 2024 preprocesados.xlsx to datos 2024 preprocesados.xlsx\n",
            "Saving datos 2025 preprocesados.xlsx to datos 2025 preprocesados.xlsx\n",
            "Saving datos_2023.xlsx to datos_2023.xlsx\n",
            "Saving datos_2024.xlsx to datos_2024.xlsx\n",
            "Saving datos_2025.xlsx to datos_2025.xlsx\n",
            "Saving mappings_pseu_anonimizacion.xlsx to mappings_pseu_anonimizacion.xlsx\n"
          ]
        }
      ],
      "source": [
        "from google.colab import files\n",
        "uploaded = files.upload()"
      ]
    },
    {
      "cell_type": "code",
      "source": [
        "import pandas as pd\n",
        "import numpy as np\n",
        "import matplotlib.pyplot as plt\n",
        "import seaborn as sns\n",
        "import csv\n",
        "from openpyxl import load_workbook"
      ],
      "metadata": {
        "id": "6VjrghhXbjaG"
      },
      "execution_count": 2,
      "outputs": []
    },
    {
      "cell_type": "code",
      "source": [
        "# Nombres de los archivos\n",
        "path_csv1 = 'datos 2023 preprocesados.xlsx'\n",
        "path_csv2 = 'datos 2024 preprocesados.xlsx'\n",
        "path_csv3 = 'datos 2025 preprocesados.xlsx'\n",
        "path_csv4 = 'datos_2023.xlsx'\n",
        "path_csv5 = 'datos_2024.xlsx'\n",
        "path_csv6 = 'datos_2025.xlsx'\n",
        "path_csv_precios_2023 = 'Consolidado Referencias 2023 actualizado.xlsx'\n",
        "path_csv_precios_2025 = 'Consolidado Referencias 2025.xlsx'"
      ],
      "metadata": {
        "id": "TgOW8k4Qbm3f"
      },
      "execution_count": 18,
      "outputs": []
    },
    {
      "cell_type": "code",
      "source": [
        "bad_lines = []\n",
        "\n",
        "def collect_bad_line(bad_line: list[str]) -> None:\n",
        "    bad_lines.append(bad_line)"
      ],
      "metadata": {
        "id": "O8JScmFKcSAk"
      },
      "execution_count": 4,
      "outputs": []
    },
    {
      "cell_type": "code",
      "source": [
        "# Carga el workbook en modo lectura\n",
        "wb = load_workbook(path_csv1, read_only=True)\n",
        "ws = wb.active  # o wb['NombreDeLaHoja']\n",
        "print(\"Filas en la hoja Excel:\", ws.max_row)"
      ],
      "metadata": {
        "colab": {
          "base_uri": "https://localhost:8080/"
        },
        "id": "VuwpFxMMcYNa",
        "outputId": "5020ffc8-2d3f-4203-8874-b9b3c725900f"
      },
      "execution_count": 5,
      "outputs": [
        {
          "output_type": "stream",
          "name": "stdout",
          "text": [
            "Filas en la hoja Excel: 2681\n"
          ]
        }
      ]
    },
    {
      "cell_type": "code",
      "source": [
        "# Itera todas las filas, valores tal cual (incluye filas vacías)\n",
        "rows = list(ws.iter_rows(values_only=True))\n",
        "\n",
        "# Asume que la primera fila es la cabecera\n",
        "header = rows[0]\n",
        "data   = rows[1:]\n",
        "\n",
        "# Crea el DataFrame completo\n",
        "df_raw = pd.DataFrame(data, columns=header)\n",
        "\n",
        "# Ya puedes inspeccionar cuántas filas trajo Excel realmente\n",
        "print(\"Filas (raw):\", len(rows), \"→ DataFrame:\", df_raw.shape[0])\n",
        "\n",
        "# Ahora procesa df_raw como tu df_analisis:\n",
        "#    — limpia filas completamente vacías si quieres\n",
        "#    — ajusta tipos, renombra columnas, etc.\n",
        "df_2023_preprocessed = df_raw.dropna(how='all').reset_index(drop=True)"
      ],
      "metadata": {
        "colab": {
          "base_uri": "https://localhost:8080/"
        },
        "id": "BIPI6x4IccRF",
        "outputId": "6febc77a-4d7a-48c4-f852-de8f0f6fbc16"
      },
      "execution_count": 6,
      "outputs": [
        {
          "output_type": "stream",
          "name": "stdout",
          "text": [
            "Filas (raw): 2681 → DataFrame: 2680\n"
          ]
        }
      ]
    },
    {
      "cell_type": "markdown",
      "source": [
        "Se hace lo mismo con el resto de archivos"
      ],
      "metadata": {
        "id": "fquQYt1qcfA9"
      }
    },
    {
      "cell_type": "code",
      "source": [
        "# Carga el workbook 2 en modo lectura\n",
        "wb = load_workbook(path_csv2, read_only=True)\n",
        "ws = wb.active  # o wb['NombreDeLaHoja']\n",
        "print(\"Filas en la hoja Excel:\", ws.max_row)"
      ],
      "metadata": {
        "colab": {
          "base_uri": "https://localhost:8080/"
        },
        "id": "KFk4InczchXx",
        "outputId": "c9dca029-7dc3-4ee6-a42d-7e13f9e2024b"
      },
      "execution_count": 7,
      "outputs": [
        {
          "output_type": "stream",
          "name": "stdout",
          "text": [
            "Filas en la hoja Excel: 5287\n"
          ]
        }
      ]
    },
    {
      "cell_type": "code",
      "source": [
        "# Itera todas las filas, valores tal cual (incluye filas vacías)\n",
        "rows = list(ws.iter_rows(values_only=True))\n",
        "\n",
        "# Asume que la primera fila es la cabecera\n",
        "header = rows[0]\n",
        "data   = rows[1:]\n",
        "\n",
        "# Crea el DataFrame completo\n",
        "df_raw = pd.DataFrame(data, columns=header)\n",
        "\n",
        "# Ya puedes inspeccionar cuántas filas trajo Excel realmente\n",
        "print(\"Filas (raw):\", len(rows), \"→ DataFrame:\", df_raw.shape[0])\n",
        "\n",
        "# Ahora procesa df_raw como tu df_analisis:\n",
        "#    — limpia filas completamente vacías si quieres\n",
        "#    — ajusta tipos, renombra columnas, etc.\n",
        "df_2024_preprocessed = df_raw.dropna(how='all').reset_index(drop=True)"
      ],
      "metadata": {
        "colab": {
          "base_uri": "https://localhost:8080/"
        },
        "id": "tmw6aKa2cklk",
        "outputId": "2528fd91-b8ec-4788-90b9-213a50289e26"
      },
      "execution_count": 8,
      "outputs": [
        {
          "output_type": "stream",
          "name": "stdout",
          "text": [
            "Filas (raw): 5287 → DataFrame: 5286\n"
          ]
        }
      ]
    },
    {
      "cell_type": "code",
      "source": [
        "# Carga el workbook 3 en modo lectura\n",
        "wb = load_workbook(path_csv3, read_only=True)\n",
        "ws = wb.active  # o wb['NombreDeLaHoja']\n",
        "print(\"Filas en la hoja Excel:\", ws.max_row)"
      ],
      "metadata": {
        "colab": {
          "base_uri": "https://localhost:8080/"
        },
        "id": "uEa4ywwPcoX-",
        "outputId": "996cd8df-3380-4454-80b4-89cd50435b52"
      },
      "execution_count": 9,
      "outputs": [
        {
          "output_type": "stream",
          "name": "stdout",
          "text": [
            "Filas en la hoja Excel: 751\n"
          ]
        }
      ]
    },
    {
      "cell_type": "code",
      "source": [
        "# Itera todas las filas, valores tal cual (incluye filas vacías)\n",
        "rows = list(ws.iter_rows(values_only=True))\n",
        "\n",
        "# Asume que la primera fila es la cabecera\n",
        "header = rows[0]\n",
        "data   = rows[1:]\n",
        "\n",
        "# Crea el DataFrame completo\n",
        "df_raw = pd.DataFrame(data, columns=header)\n",
        "\n",
        "# Ya puedes inspeccionar cuántas filas trajo Excel realmente\n",
        "print(\"Filas (raw):\", len(rows), \"→ DataFrame:\", df_raw.shape[0])\n",
        "\n",
        "# Ahora procesa df_raw como tu df_analisis:\n",
        "#    — limpia filas completamente vacías si quieres\n",
        "#    — ajusta tipos, renombra columnas, etc.\n",
        "df_2025_preprocessed = df_raw.dropna(how='all').reset_index(drop=True)"
      ],
      "metadata": {
        "colab": {
          "base_uri": "https://localhost:8080/"
        },
        "id": "1x7d_2fscrDp",
        "outputId": "9ada0fdb-93e5-4df4-ba9f-c34f3c8fb2ea"
      },
      "execution_count": 10,
      "outputs": [
        {
          "output_type": "stream",
          "name": "stdout",
          "text": [
            "Filas (raw): 751 → DataFrame: 750\n"
          ]
        }
      ]
    },
    {
      "cell_type": "code",
      "source": [
        "# Carga el workbook 3 en modo lectura\n",
        "wb = load_workbook(path_csv4, read_only=True)\n",
        "ws = wb.active  # o wb['NombreDeLaHoja']\n",
        "print(\"Filas en la hoja Excel:\", ws.max_row)\n",
        "\n",
        "# Itera todas las filas, valores tal cual (incluye filas vacías)\n",
        "rows = list(ws.iter_rows(values_only=True))\n",
        "\n",
        "# Asume que la primera fila es la cabecera\n",
        "header = rows[0]\n",
        "data   = rows[1:]\n",
        "\n",
        "# Crea el DataFrame completo\n",
        "df_raw = pd.DataFrame(data, columns=header)\n",
        "\n",
        "# Ya puedes inspeccionar cuántas filas trajo Excel realmente\n",
        "print(\"Filas (raw):\", len(rows), \"→ DataFrame:\", df_raw.shape[0])\n",
        "\n",
        "# Ahora procesa df_raw como tu df_analisis:\n",
        "#    — limpia filas completamente vacías si quieres\n",
        "#    — ajusta tipos, renombra columnas, etc.\n",
        "df_2023_clean = df_raw.dropna(how='all').reset_index(drop=True)"
      ],
      "metadata": {
        "colab": {
          "base_uri": "https://localhost:8080/"
        },
        "id": "BDiyUquOzJdN",
        "outputId": "81cdfadf-13cc-4247-8f98-6080cffab62c"
      },
      "execution_count": 19,
      "outputs": [
        {
          "output_type": "stream",
          "name": "stdout",
          "text": [
            "Filas en la hoja Excel: 9844\n",
            "Filas (raw): 9844 → DataFrame: 9843\n"
          ]
        }
      ]
    },
    {
      "cell_type": "code",
      "source": [
        "# Carga el workbook 3 en modo lectura\n",
        "wb = load_workbook(path_csv5, read_only=True)\n",
        "ws = wb.active  # o wb['NombreDeLaHoja']\n",
        "print(\"Filas en la hoja Excel:\", ws.max_row)\n",
        "\n",
        "# Itera todas las filas, valores tal cual (incluye filas vacías)\n",
        "rows = list(ws.iter_rows(values_only=True))\n",
        "\n",
        "# Asume que la primera fila es la cabecera\n",
        "header = rows[0]\n",
        "data   = rows[1:]\n",
        "\n",
        "# Crea el DataFrame completo\n",
        "df_raw = pd.DataFrame(data, columns=header)\n",
        "\n",
        "# Ya puedes inspeccionar cuántas filas trajo Excel realmente\n",
        "print(\"Filas (raw):\", len(rows), \"→ DataFrame:\", df_raw.shape[0])\n",
        "\n",
        "# Ahora procesa df_raw como tu df_analisis:\n",
        "#    — limpia filas completamente vacías si quieres\n",
        "#    — ajusta tipos, renombra columnas, etc.\n",
        "df_2024_clean = df_raw.dropna(how='all').reset_index(drop=True)"
      ],
      "metadata": {
        "id": "UCf1-jdPzsGw",
        "outputId": "85e7b9a0-5448-41eb-b50b-1c537a146d56",
        "colab": {
          "base_uri": "https://localhost:8080/"
        }
      },
      "execution_count": 20,
      "outputs": [
        {
          "output_type": "stream",
          "name": "stdout",
          "text": [
            "Filas en la hoja Excel: 5287\n",
            "Filas (raw): 5287 → DataFrame: 5286\n"
          ]
        }
      ]
    },
    {
      "cell_type": "code",
      "source": [
        "# Carga el workbook 3 en modo lectura\n",
        "wb = load_workbook(path_csv6, read_only=True)\n",
        "ws = wb.active  # o wb['NombreDeLaHoja']\n",
        "print(\"Filas en la hoja Excel:\", ws.max_row)\n",
        "\n",
        "# Itera todas las filas, valores tal cual (incluye filas vacías)\n",
        "rows = list(ws.iter_rows(values_only=True))\n",
        "\n",
        "# Asume que la primera fila es la cabecera\n",
        "header = rows[0]\n",
        "data   = rows[1:]\n",
        "\n",
        "# Crea el DataFrame completo\n",
        "df_raw = pd.DataFrame(data, columns=header)\n",
        "\n",
        "# Ya puedes inspeccionar cuántas filas trajo Excel realmente\n",
        "print(\"Filas (raw):\", len(rows), \"→ DataFrame:\", df_raw.shape[0])\n",
        "\n",
        "# Ahora procesa df_raw como tu df_analisis:\n",
        "#    — limpia filas completamente vacías si quieres\n",
        "#    — ajusta tipos, renombra columnas, etc.\n",
        "df_2025_clean = df_raw.dropna(how='all').reset_index(drop=True)"
      ],
      "metadata": {
        "id": "qvkzr-aJzxeD",
        "outputId": "b81e8ad4-084c-4e75-bc61-29da1bea1a7f",
        "colab": {
          "base_uri": "https://localhost:8080/"
        }
      },
      "execution_count": 21,
      "outputs": [
        {
          "output_type": "stream",
          "name": "stdout",
          "text": [
            "Filas en la hoja Excel: 751\n",
            "Filas (raw): 751 → DataFrame: 750\n"
          ]
        }
      ]
    },
    {
      "cell_type": "code",
      "source": [
        "# Carga el workbook 4 en modo lectura\n",
        "wb = load_workbook(path_csv_precios_2023, read_only=True)\n",
        "ws = wb.active  # o wb['NombreDeLaHoja']\n",
        "print(\"Filas en la hoja Excel:\", ws.max_row)"
      ],
      "metadata": {
        "colab": {
          "base_uri": "https://localhost:8080/"
        },
        "id": "-FVSay-fcuuY",
        "outputId": "a3640203-13c4-44e1-9a3d-6d8489d9709f"
      },
      "execution_count": 11,
      "outputs": [
        {
          "output_type": "stream",
          "name": "stdout",
          "text": [
            "Filas en la hoja Excel: 21451\n"
          ]
        }
      ]
    },
    {
      "cell_type": "code",
      "source": [
        "# Itera las filas a partir de la segunda (ignora la cabecera)\n",
        "rows = list(ws.iter_rows(min_row=2, values_only=True))\n",
        "\n",
        "# Define los nombres de columna esperados\n",
        "columns = [\"REFERENCIA\", \"PRECIO PROVEEDOR\", \"PROVEEDOR\", \"LINEA DE PRODUCTO\", \"DETALLE\", \"AÑO\"]\n",
        "\n",
        "# Crea el DataFrame completo con las columnas definidas\n",
        "df_2023_prices = (\n",
        "    pd.DataFrame(rows, columns=columns)\n",
        "    .dropna(how='all')\n",
        "    .reset_index(drop=True)\n",
        ")\n",
        "\n",
        "# Ya puedes inspeccionar cuántas filas trajo Excel realmente\n",
        "print(\"Filas (raw):\", len(rows), \"→ DataFrame:\", df_2023_prices.shape[0])\n"
      ],
      "metadata": {
        "colab": {
          "base_uri": "https://localhost:8080/"
        },
        "id": "f_PfQ_WcdJoo",
        "outputId": "6a8a8ae5-55e5-4703-ae94-61ec9603cde7"
      },
      "execution_count": 12,
      "outputs": [
        {
          "output_type": "stream",
          "name": "stdout",
          "text": [
            "Filas (raw): 21450 → DataFrame: 21450\n"
          ]
        }
      ]
    },
    {
      "cell_type": "code",
      "source": [
        "# Carga el workbook 6 en modo lectura\n",
        "wb = load_workbook(path_csv_precios_2025, read_only=True)\n",
        "ws = wb.active  # o wb['NombreDeLaHoja']\n",
        "print(\"Filas en la hoja Excel:\", ws.max_row)"
      ],
      "metadata": {
        "colab": {
          "base_uri": "https://localhost:8080/"
        },
        "id": "qUhOnQ9pdRqd",
        "outputId": "b21cc16a-29e3-447b-d859-8733a5e02c6d"
      },
      "execution_count": 13,
      "outputs": [
        {
          "output_type": "stream",
          "name": "stdout",
          "text": [
            "Filas en la hoja Excel: 18274\n"
          ]
        }
      ]
    },
    {
      "cell_type": "code",
      "source": [
        "# Itera las filas a partir de la segunda (ignora la cabecera)\n",
        "rows = list(ws.iter_rows(min_row=2, values_only=True))\n",
        "\n",
        "# Define los nombres de columna esperados\n",
        "columns = [\"REFERENCIA\", \"PRECIO PROVEEDOR\", \"PROVEEDOR\", \"LINEA DE PRODUCTO\", \"DETALLE\", \"AÑO\"]\n",
        "\n",
        "# Crea el DataFrame completo con las columnas definidas\n",
        "df_2025_prices = (\n",
        "    pd.DataFrame(rows) # Read all columns\n",
        "    .iloc[:, :len(columns)] # Select only the first 'len(columns)' columns\n",
        "    .set_axis(columns, axis=1) # Set the column names\n",
        "    .dropna(how='all')\n",
        "    .reset_index(drop=True)\n",
        ")\n",
        "\n",
        "# Ya puedes inspeccionar cuántas filas trajo Excel realmente\n",
        "print(\"Filas (raw):\", len(rows), \"→ DataFrame:\", df_2025_prices.shape[0])"
      ],
      "metadata": {
        "colab": {
          "base_uri": "https://localhost:8080/"
        },
        "id": "wNLWHyBidVKO",
        "outputId": "2e22bb8f-91bc-44a0-83d7-3bbc0b19755e"
      },
      "execution_count": 15,
      "outputs": [
        {
          "output_type": "stream",
          "name": "stdout",
          "text": [
            "Filas (raw): 18273 → DataFrame: 18273\n"
          ]
        }
      ]
    },
    {
      "cell_type": "markdown",
      "source": [
        "Un vistazo a todos los archivos"
      ],
      "metadata": {
        "id": "u-xWXedhddmW"
      }
    },
    {
      "cell_type": "code",
      "source": [
        "df_2023_preprocessed.info()"
      ],
      "metadata": {
        "colab": {
          "base_uri": "https://localhost:8080/"
        },
        "id": "lsNc1Svddc4f",
        "outputId": "5183735a-12fc-4356-fc20-c64d2ac67b36"
      },
      "execution_count": 22,
      "outputs": [
        {
          "output_type": "stream",
          "name": "stdout",
          "text": [
            "<class 'pandas.core.frame.DataFrame'>\n",
            "RangeIndex: 2680 entries, 0 to 2679\n",
            "Data columns (total 26 columns):\n",
            " #   Column                     Non-Null Count  Dtype         \n",
            "---  ------                     --------------  -----         \n",
            " 0   Código de compra           2680 non-null   object        \n",
            " 1   Fecha solicitud            2680 non-null   datetime64[ns]\n",
            " 2   Hora                       2680 non-null   object        \n",
            " 3   Fecha de radicación        2680 non-null   datetime64[ns]\n",
            " 4   Mes                        2680 non-null   object        \n",
            " 5   Ciudad                     2680 non-null   object        \n",
            " 6   Id Paciente                2680 non-null   object        \n",
            " 7   Paciente                   2680 non-null   object        \n",
            " 8   Cliente                    2680 non-null   object        \n",
            " 9   Id Cliente                 2680 non-null   object        \n",
            " 10  Institución                2680 non-null   object        \n",
            " 11  Diagnóstico                2680 non-null   object        \n",
            " 12  Médico                     2680 non-null   object        \n",
            " 13  Soporte                    2680 non-null   object        \n",
            " 14  Descripción                2680 non-null   object        \n",
            " 15  Referencia                 2680 non-null   object        \n",
            " 16  Cantidad                   2680 non-null   int64         \n",
            " 17  Proveedor                  2680 non-null   object        \n",
            " 18  Valor unitario             2680 non-null   float64       \n",
            " 19  GroupID                    2680 non-null   object        \n",
            " 20  Valor total línea          2680 non-null   float64       \n",
            " 21  Valor total orden          2680 non-null   float64       \n",
            " 22  Valor unitario_missing     2680 non-null   int64         \n",
            " 23  Valor total línea_missing  2680 non-null   int64         \n",
            " 24  Valor total orden_missing  2680 non-null   int64         \n",
            " 25  Cantidad_missing           2680 non-null   int64         \n",
            "dtypes: datetime64[ns](2), float64(3), int64(5), object(16)\n",
            "memory usage: 544.5+ KB\n"
          ]
        }
      ]
    },
    {
      "cell_type": "code",
      "source": [
        "df_2023_clean.info()"
      ],
      "metadata": {
        "id": "WjD9t3Pkz98a",
        "outputId": "af4dffdc-fb6e-45af-dcb3-445abfc3c8d7",
        "colab": {
          "base_uri": "https://localhost:8080/"
        }
      },
      "execution_count": 23,
      "outputs": [
        {
          "output_type": "stream",
          "name": "stdout",
          "text": [
            "<class 'pandas.core.frame.DataFrame'>\n",
            "RangeIndex: 9843 entries, 0 to 9842\n",
            "Data columns (total 28 columns):\n",
            " #   Column                     Non-Null Count  Dtype         \n",
            "---  ------                     --------------  -----         \n",
            " 0   CODIGO DE COMPRA           9843 non-null   object        \n",
            " 1   FECHA SOLICITUD            9843 non-null   datetime64[ns]\n",
            " 2   HORA                       9843 non-null   object        \n",
            " 3   FECHA DE RADICACION        9843 non-null   datetime64[ns]\n",
            " 4   MES                        9843 non-null   object        \n",
            " 5   CIUDAD                     9843 non-null   object        \n",
            " 6   ID PACIENTE                9843 non-null   object        \n",
            " 7   PACIENTE                   9843 non-null   object        \n",
            " 8   CLIENTE                    9843 non-null   object        \n",
            " 9   ID CLIENTE                 9843 non-null   object        \n",
            " 10  INSTITUCION                9843 non-null   object        \n",
            " 11  DIAGNOSTICO                9843 non-null   object        \n",
            " 12  MEDICO                     9843 non-null   object        \n",
            " 13  SOPORTE                    9843 non-null   object        \n",
            " 14  DESCRIPCION                9843 non-null   object        \n",
            " 15  REFERENCIA                 9843 non-null   object        \n",
            " 16  CANTIDAD                   9843 non-null   int64         \n",
            " 17  PROVEEDOR                  9843 non-null   object        \n",
            " 18  VALOR UNITARIO             9843 non-null   float64       \n",
            " 19  GROUPID                    9843 non-null   object        \n",
            " 20  VALOR TOTAL LINEA          9843 non-null   float64       \n",
            " 21  VALOR TOTAL ORDEN          9843 non-null   float64       \n",
            " 22  VALOR UNITARIO_MISSING     9843 non-null   int64         \n",
            " 23  VALOR TOTAL LINEA_MISSING  9843 non-null   int64         \n",
            " 24  VALOR TOTAL ORDEN_MISSING  9843 non-null   int64         \n",
            " 25  CANTIDAD_MISSING           9843 non-null   int64         \n",
            " 26  LINEA DE PRODUCTO          9006 non-null   object        \n",
            " 27  DETALLE                    3304 non-null   object        \n",
            "dtypes: datetime64[ns](2), float64(3), int64(5), object(18)\n",
            "memory usage: 2.1+ MB\n"
          ]
        }
      ]
    },
    {
      "cell_type": "code",
      "source": [
        "df_2024_clean.info()"
      ],
      "metadata": {
        "colab": {
          "base_uri": "https://localhost:8080/"
        },
        "id": "nyZkCoQJdhN3",
        "outputId": "0d2371bc-f64e-4125-e0ec-d93f2dbf3eb2"
      },
      "execution_count": null,
      "outputs": [
        {
          "output_type": "stream",
          "name": "stdout",
          "text": [
            "<class 'pandas.core.frame.DataFrame'>\n",
            "RangeIndex: 5286 entries, 0 to 5285\n",
            "Data columns (total 31 columns):\n",
            " #   Column                     Non-Null Count  Dtype         \n",
            "---  ------                     --------------  -----         \n",
            " 0   Código de compra           5286 non-null   object        \n",
            " 1   Estado                     5286 non-null   object        \n",
            " 2   Fecha solicitud            5286 non-null   datetime64[ns]\n",
            " 3   Hora                       5286 non-null   object        \n",
            " 4   Fecha de CX                5286 non-null   datetime64[ns]\n",
            " 5   Fecha de radicación        5286 non-null   datetime64[ns]\n",
            " 6   Mes                        5286 non-null   object        \n",
            " 7   Ciudad                     5286 non-null   object        \n",
            " 8   Id Paciente                5286 non-null   object        \n",
            " 9   Asegurador                 5286 non-null   object        \n",
            " 10  Equipo                     5286 non-null   object        \n",
            " 11  Línea de producto          5286 non-null   object        \n",
            " 12  Id Cliente                 5286 non-null   object        \n",
            " 13  Institución                5286 non-null   object        \n",
            " 14  Diagnóstico                5286 non-null   object        \n",
            " 15  Médico                     5286 non-null   object        \n",
            " 16  Descripción                5286 non-null   object        \n",
            " 17  Referencia                 5286 non-null   object        \n",
            " 18  Cantidad                   5286 non-null   int64         \n",
            " 19  Proveedor                  5286 non-null   object        \n",
            " 20  Valor unitario             5286 non-null   int64         \n",
            " 21  GroupID                    5286 non-null   object        \n",
            " 22  Valor total línea          5286 non-null   int64         \n",
            " 23  Valor total orden          5286 non-null   int64         \n",
            " 24  Compra_facturada           5286 non-null   int64         \n",
            " 25  Radicación_imputada        5286 non-null   int64         \n",
            " 26  Compra_missing             5286 non-null   int64         \n",
            " 27  Valor unitario_missing     5286 non-null   int64         \n",
            " 28  Valor total línea_missing  5286 non-null   int64         \n",
            " 29  Valor total orden_missing  5286 non-null   int64         \n",
            " 30  Cantidad_missing           5286 non-null   int64         \n",
            "dtypes: datetime64[ns](3), int64(11), object(17)\n",
            "memory usage: 1.3+ MB\n"
          ]
        }
      ]
    },
    {
      "cell_type": "code",
      "source": [
        "df_2025_clean.info()"
      ],
      "metadata": {
        "colab": {
          "base_uri": "https://localhost:8080/"
        },
        "id": "CJ_ddYwWdjkO",
        "outputId": "9c8357cc-2be4-47d3-8a75-7a7db26e5335"
      },
      "execution_count": null,
      "outputs": [
        {
          "output_type": "stream",
          "name": "stdout",
          "text": [
            "<class 'pandas.core.frame.DataFrame'>\n",
            "RangeIndex: 750 entries, 0 to 749\n",
            "Data columns (total 27 columns):\n",
            " #   Column               Non-Null Count  Dtype         \n",
            "---  ------               --------------  -----         \n",
            " 0   Código de Compra     750 non-null    int64         \n",
            " 1   Id Paciente          750 non-null    object        \n",
            " 2   Paciente             750 non-null    object        \n",
            " 3   Proveedor            750 non-null    object        \n",
            " 4   Id Cliente           750 non-null    int64         \n",
            " 5   Cliente              750 non-null    object        \n",
            " 6   Referencia           750 non-null    object        \n",
            " 7   Descripción          750 non-null    object        \n",
            " 8   Valor unitario       750 non-null    object        \n",
            " 9   Cantidad             750 non-null    int64         \n",
            " 10  Valor total línea    750 non-null    object        \n",
            " 11  Fecha solicitud      750 non-null    datetime64[ns]\n",
            " 12  Estado               750 non-null    object        \n",
            " 13  Validación           750 non-null    object        \n",
            " 14  Equipo               750 non-null    object        \n",
            " 15  Línea de producto    750 non-null    object        \n",
            " 16  Hora                 750 non-null    object        \n",
            " 17  Fecha de CX          750 non-null    datetime64[ns]\n",
            " 18  Institución          750 non-null    object        \n",
            " 19  Ciudad               750 non-null    object        \n",
            " 20  Diagnóstico          750 non-null    object        \n",
            " 21  Médico               750 non-null    object        \n",
            " 22  Soporte              750 non-null    object        \n",
            " 23  Asegurador           750 non-null    object        \n",
            " 24  Fecha de radicación  750 non-null    datetime64[ns]\n",
            " 25  Material Implantado  750 non-null    object        \n",
            " 26  Mes                  750 non-null    object        \n",
            "dtypes: datetime64[ns](3), int64(3), object(21)\n",
            "memory usage: 158.3+ KB\n"
          ]
        }
      ]
    },
    {
      "cell_type": "code",
      "source": [
        "df_2023_prices.info()"
      ],
      "metadata": {
        "colab": {
          "base_uri": "https://localhost:8080/"
        },
        "id": "sP4s73WmdlTf",
        "outputId": "b0001a3d-0081-40c3-fcee-61590141488d"
      },
      "execution_count": null,
      "outputs": [
        {
          "output_type": "stream",
          "name": "stdout",
          "text": [
            "<class 'pandas.core.frame.DataFrame'>\n",
            "RangeIndex: 21450 entries, 0 to 21449\n",
            "Data columns (total 6 columns):\n",
            " #   Column       Non-Null Count  Dtype \n",
            "---  ------       --------------  ----- \n",
            " 0   REFERENCIA   21450 non-null  object\n",
            " 1   PRECIO       21449 non-null  object\n",
            " 2   PROVEEDOR    21450 non-null  object\n",
            " 3   LINEA        21450 non-null  object\n",
            " 4   DESCRIPCION  16350 non-null  object\n",
            " 5   None         0 non-null      object\n",
            "dtypes: object(6)\n",
            "memory usage: 1005.6+ KB\n"
          ]
        }
      ]
    },
    {
      "cell_type": "code",
      "source": [
        "df_2025_prices.info()"
      ],
      "metadata": {
        "colab": {
          "base_uri": "https://localhost:8080/"
        },
        "id": "IJds-yTHdoxl",
        "outputId": "d58baac3-244a-4b37-ec05-633f78b98bc5"
      },
      "execution_count": null,
      "outputs": [
        {
          "output_type": "stream",
          "name": "stdout",
          "text": [
            "<class 'pandas.core.frame.DataFrame'>\n",
            "RangeIndex: 18273 entries, 0 to 18272\n",
            "Data columns (total 10 columns):\n",
            " #   Column             Non-Null Count  Dtype  \n",
            "---  ------             --------------  -----  \n",
            " 0   REFERENCIA         18273 non-null  object \n",
            " 1   PRECIO             18273 non-null  float64\n",
            " 2   PROVEEDOR          18273 non-null  object \n",
            " 3   LINEA DE PRODUCTO  18273 non-null  object \n",
            " 4   None               10165 non-null  object \n",
            " 5   None               0 non-null      object \n",
            " 6   None               0 non-null      object \n",
            " 7   None               0 non-null      object \n",
            " 8   None               0 non-null      object \n",
            " 9   None               0 non-null      object \n",
            "dtypes: float64(1), object(9)\n",
            "memory usage: 1.4+ MB\n"
          ]
        }
      ]
    }
  ]
}